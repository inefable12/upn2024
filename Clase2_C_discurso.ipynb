{
  "cells": [
    {
      "cell_type": "markdown",
      "metadata": {
        "id": "view-in-github",
        "colab_type": "text"
      },
      "source": [
        "<a href=\"https://colab.research.google.com/github/inefable12/upn2024/blob/main/Clase2_C_discurso.ipynb\" target=\"_parent\"><img src=\"https://colab.research.google.com/assets/colab-badge.svg\" alt=\"Open In Colab\"/></a>"
      ]
    },
    {
      "cell_type": "markdown",
      "id": "8cd6d97d-24d0-4ce8-808e-f3791174d07c",
      "metadata": {
        "id": "8cd6d97d-24d0-4ce8-808e-f3791174d07c"
      },
      "source": [
        "<img src=\"https://media.giphy.com/avatars/UPN_edu/BohC4JwcStCB.gif\" width=\"100\" alt=\"nlp logo\"  />\n",
        "\n",
        "___\n",
        "\n",
        "$$\\large\\textbf{Codificación para el análisis de datos para no programadores}$$\n",
        "$$\\textit{Parte Práctica C: Análisis de discurso presidencial con NLP}$$\n",
        "\n",
        "_Docente: Jesus Alvarado Huayhuaz_\n",
        "\n",
        "_13 de diciembre de 2024_\n",
        "___"
      ]
    },
    {
      "cell_type": "markdown",
      "id": "88704b28-c64d-4693-a4be-752d5578339c",
      "metadata": {
        "id": "88704b28-c64d-4693-a4be-752d5578339c"
      },
      "source": [
        "# 1. Instalar requerimientos"
      ]
    },
    {
      "cell_type": "code",
      "source": [
        "!pip install -q condacolab\n",
        "import condacolab\n",
        "condacolab.install()"
      ],
      "metadata": {
        "colab": {
          "base_uri": "https://localhost:8080/"
        },
        "id": "c5xq3fZ-TnNB",
        "outputId": "e44bf404-9703-4673-9369-393300f8c844"
      },
      "id": "c5xq3fZ-TnNB",
      "execution_count": 1,
      "outputs": [
        {
          "output_type": "stream",
          "name": "stdout",
          "text": [
            "⏬ Downloading https://github.com/conda-forge/miniforge/releases/download/23.11.0-0/Mambaforge-23.11.0-0-Linux-x86_64.sh...\n",
            "📦 Installing...\n",
            "📌 Adjusting configuration...\n",
            "🩹 Patching environment...\n",
            "⏲ Done in 0:00:16\n",
            "🔁 Restarting kernel...\n"
          ]
        }
      ]
    },
    {
      "cell_type": "code",
      "source": [
        "# Dar enter para continuar\n",
        "!conda install -c anaconda nltk"
      ],
      "metadata": {
        "id": "LfTRHMhPTzBR",
        "colab": {
          "base_uri": "https://localhost:8080/"
        },
        "outputId": "bcb4ef28-9a27-45c8-d699-c58a1bab4372"
      },
      "id": "LfTRHMhPTzBR",
      "execution_count": 2,
      "outputs": [
        {
          "output_type": "stream",
          "name": "stdout",
          "text": [
            "Channels:\n",
            " - anaconda\n",
            " - conda-forge\n",
            "Platform: linux-64\n",
            "Collecting package metadata (repodata.json): - \b\b\\ \b\b| \b\b/ \b\b- \b\b\\ \b\b| \b\b/ \b\b- \b\b\\ \b\b| \b\b/ \b\b- \b\b\\ \b\b| \b\b/ \b\b- \b\b\\ \b\b| \b\b/ \b\b- \b\b\\ \b\b| \b\b/ \b\b- \b\b\\ \b\b| \b\b/ \b\b- \b\b\\ \b\b| \b\b/ \b\b- \b\b\\ \b\b| \b\b/ \b\b- \b\b\\ \b\b| \b\b/ \b\b- \b\b\\ \b\b| \b\b/ \b\b- \b\b\\ \b\b| \b\b/ \b\b- \b\b\\ \b\b| \b\b/ \b\b- \b\b\\ \b\b| \b\b/ \b\b- \b\b\\ \b\b| \b\b/ \b\b- \b\b\\ \b\b| \b\b/ \b\b- \b\b\\ \b\b| \b\b/ \b\b- \b\b\\ \b\b| \b\b/ \b\b- \b\b\\ \b\b| \b\b/ \b\b- \b\b\\ \b\b| \b\b/ \b\b- \b\b\\ \b\b| \b\b/ \b\b- \b\b\\ \b\b| \b\b/ \b\b- \b\b\\ \b\b| \b\b/ \b\b- \b\b\\ \b\b| \b\b/ \b\b- \b\b\\ \b\b| \b\b/ \b\b- \b\b\\ \b\b| \b\b/ \b\b- \b\b\\ \b\b| \b\b/ \b\b- \b\b\\ \b\b| \b\b/ \b\b- \b\b\\ \b\b| \b\b/ \b\b- \b\b\\ \b\b| \b\b/ \b\b- \b\b\\ \b\b| \b\b/ \b\b- \b\b\\ \b\b| \b\b/ \b\b- \b\b\\ \b\b| \b\b/ \b\b- \b\b\\ \b\b| \b\b/ \b\b- \b\b\\ \b\b| \b\b/ \b\b- \b\b\\ \b\b| \b\b/ \b\b- \b\b\\ \b\b| \b\b/ \b\b- \b\b\\ \b\b| \b\b/ \b\b- \b\b\\ \b\b| \b\b/ \b\b- \b\b\\ \b\b| \b\b/ \b\b- \b\b\\ \b\b| \b\b/ \b\b- \b\b\\ \b\b| \b\b/ \b\b- \b\b\\ \b\b| \b\b/ \b\b- \b\b\\ \b\b| \b\b/ \b\b- \b\b\\ \b\b| \b\b/ \b\b- \b\b\\ \b\b| \b\b/ \b\b- \b\b\\ \b\b| \b\b/ \b\b- \b\b\\ \b\b| \b\b/ \b\b- \b\b\\ \b\b| \b\b/ \b\b- \b\b\\ \b\b| \b\b/ \b\b- \b\b\\ \b\b| \b\b/ \b\b- \b\b\\ \b\b| \b\b/ \b\b- \b\b\\ \b\b| \b\b/ \b\b- \b\b\\ \b\b| \b\b/ \b\b- \b\b\\ \b\b| \b\b/ \b\b- \b\b\\ \b\b| \b\b/ \b\b- \b\b\\ \b\b| \b\b/ \b\b- \b\b\\ \b\b| \b\b/ \b\b- \b\b\\ \b\b| \b\b/ \b\b- \b\b\\ \b\b| \b\b/ \b\b- \b\b\\ \b\b| \b\b/ \b\b- \b\b\\ \b\b| \b\b/ \b\b- \b\b\\ \b\b| \b\b/ \b\b- \b\b\\ \b\b| \b\b/ \b\b- \b\b\\ \b\b| \b\b/ \b\b- \b\b\\ \b\b| \b\b/ \b\b- \b\b\\ \b\b| \b\b/ \b\b- \b\b\\ \b\b| \b\b/ \b\b- \b\b\\ \b\b| \b\b/ \b\b- \b\b\\ \b\b| \b\b/ \b\b- \b\b\\ \b\b| \b\b/ \b\b- \b\b\\ \b\b| \b\b/ \b\b- \b\b\\ \b\b| \b\b/ \b\b- \b\b\\ \b\b| \b\b/ \b\b- \b\b\\ \b\bdone\n",
            "Solving environment: / \b\b- \b\b\\ \b\bdone\n",
            "\n",
            "\n",
            "==> WARNING: A newer version of conda exists. <==\n",
            "    current version: 23.11.0\n",
            "    latest version: 24.11.1\n",
            "\n",
            "Please update conda by running\n",
            "\n",
            "    $ conda update -n base -c conda-forge conda\n",
            "\n",
            "\n",
            "\n",
            "## Package Plan ##\n",
            "\n",
            "  environment location: /usr/local\n",
            "\n",
            "  added / updated specs:\n",
            "    - nltk\n",
            "\n",
            "\n",
            "The following packages will be downloaded:\n",
            "\n",
            "    package                    |            build\n",
            "    ---------------------------|-----------------\n",
            "    ca-certificates-2024.11.26 |       h06a4308_0         138 KB  anaconda\n",
            "    certifi-2024.8.30          |  py310h06a4308_0         164 KB  anaconda\n",
            "    click-8.1.7                |  py310h06a4308_0         151 KB  anaconda\n",
            "    conda-23.11.0              |  py310h06a4308_0        1013 KB  anaconda\n",
            "    joblib-1.4.2               |  py310h06a4308_0         407 KB  anaconda\n",
            "    nltk-3.9.1                 |  py310h06a4308_0         2.2 MB  anaconda\n",
            "    regex-2024.9.11            |  py310h5eee18b_0         398 KB  anaconda\n",
            "    ------------------------------------------------------------\n",
            "                                           Total:         4.5 MB\n",
            "\n",
            "The following NEW packages will be INSTALLED:\n",
            "\n",
            "  click              anaconda/linux-64::click-8.1.7-py310h06a4308_0 \n",
            "  joblib             anaconda/linux-64::joblib-1.4.2-py310h06a4308_0 \n",
            "  nltk               anaconda/linux-64::nltk-3.9.1-py310h06a4308_0 \n",
            "  regex              anaconda/linux-64::regex-2024.9.11-py310h5eee18b_0 \n",
            "\n",
            "The following packages will be UPDATED:\n",
            "\n",
            "  ca-certificates    conda-forge::ca-certificates-2023.11.~ --> anaconda::ca-certificates-2024.11.26-h06a4308_0 \n",
            "  certifi            conda-forge/noarch::certifi-2023.11.1~ --> anaconda/linux-64::certifi-2024.8.30-py310h06a4308_0 \n",
            "\n",
            "The following packages will be SUPERSEDED by a higher-priority channel:\n",
            "\n",
            "  conda              conda-forge::conda-23.11.0-py310hff52~ --> anaconda::conda-23.11.0-py310h06a4308_0 \n",
            "\n",
            "\n",
            "\n",
            "Downloading and Extracting Packages:\n",
            "nltk-3.9.1           | 2.2 MB    | :   0% 0/1 [00:00<?, ?it/s]\n",
            "conda-23.11.0        | 1013 KB   | :   0% 0/1 [00:00<?, ?it/s]\u001b[A\n",
            "\n",
            "joblib-1.4.2         | 407 KB    | :   0% 0/1 [00:00<?, ?it/s]\u001b[A\u001b[A\n",
            "\n",
            "\n",
            "regex-2024.9.11      | 398 KB    | :   0% 0/1 [00:00<?, ?it/s]\u001b[A\u001b[A\u001b[A\n",
            "\n",
            "\n",
            "\n",
            "certifi-2024.8.30    | 164 KB    | :   0% 0/1 [00:00<?, ?it/s]\u001b[A\u001b[A\u001b[A\u001b[A\n",
            "\n",
            "\n",
            "\n",
            "\n",
            "click-8.1.7          | 151 KB    | :   0% 0/1 [00:00<?, ?it/s]\u001b[A\u001b[A\u001b[A\u001b[A\u001b[A\n",
            "\n",
            "\n",
            "\n",
            "\n",
            "\n",
            "ca-certificates-2024 | 138 KB    | :   0% 0/1 [00:00<?, ?it/s]\u001b[A\u001b[A\u001b[A\u001b[A\u001b[A\u001b[A\n",
            "\n",
            "joblib-1.4.2         | 407 KB    | :   4% 0.0393010062727131/1 [00:00<00:03,  3.77s/it]\u001b[A\u001b[A\n",
            "conda-23.11.0        | 1013 KB   | :   2% 0.015788383242188442/1 [00:00<00:10, 11.04s/it]\u001b[A\n",
            "\n",
            "\n",
            "\n",
            "certifi-2024.8.30    | 164 KB    | :  10% 0.09768545569454216/1 [00:00<00:01,  1.79s/it]\u001b[A\u001b[A\u001b[A\u001b[A\n",
            "\n",
            "\n",
            "nltk-3.9.1           | 2.2 MB    | :   1% 0.006982697962086984/1 [00:00<00:36, 36.83s/it]\n",
            "conda-23.11.0        | 1013 KB   | :  98% 0.9788797610156833/1 [00:00<00:00,  4.34it/s]  \u001b[A\n",
            "\n",
            "\n",
            "\n",
            "\n",
            "\n",
            "nltk-3.9.1           | 2.2 MB    | :  36% 0.3631002940285232/1 [00:00<00:00,  1.29it/s]  \n",
            "\n",
            "\n",
            "\n",
            "certifi-2024.8.30    | 164 KB    | : 100% 1.0/1 [00:00<00:00,  3.24it/s]                \u001b[A\u001b[A\u001b[A\u001b[A\n",
            "\n",
            "\n",
            "\n",
            "certifi-2024.8.30    | 164 KB    | : 100% 1.0/1 [00:00<00:00,  3.24it/s]\u001b[A\u001b[A\u001b[A\u001b[A\n",
            "\n",
            "\n",
            "\n",
            "\n",
            "click-8.1.7          | 151 KB    | :  11% 0.1059986543139589/1 [00:00<00:03,  3.45s/it]\u001b[A\u001b[A\u001b[A\u001b[A\u001b[A\n",
            "\n",
            "joblib-1.4.2         | 407 KB    | : 100% 1.0/1 [00:00<00:00,  1.38it/s]               \u001b[A\u001b[A\n",
            "\n",
            "joblib-1.4.2         | 407 KB    | : 100% 1.0/1 [00:00<00:00,  1.38it/s]\u001b[A\u001b[A\n",
            "\n",
            "\n",
            "\n",
            "\n",
            "\n",
            "ca-certificates-2024 | 138 KB    | : 100% 1.0/1 [00:00<00:00,  1.37it/s]               \u001b[A\u001b[A\u001b[A\u001b[A\u001b[A\u001b[A\n",
            "\n",
            "\n",
            "\n",
            "\n",
            "\n",
            "ca-certificates-2024 | 138 KB    | : 100% 1.0/1 [00:00<00:00,  1.37it/s]\u001b[A\u001b[A\u001b[A\u001b[A\u001b[A\u001b[A\n",
            "\n",
            "\n",
            "regex-2024.9.11      | 398 KB    | : 100% 1.0/1 [00:00<00:00,  1.13it/s]                \u001b[A\u001b[A\u001b[A\n",
            "\n",
            "\n",
            "regex-2024.9.11      | 398 KB    | : 100% 1.0/1 [00:00<00:00,  1.13it/s]\u001b[A\u001b[A\u001b[A\n",
            "\n",
            "\n",
            "\n",
            "\n",
            "click-8.1.7          | 151 KB    | : 100% 1.0/1 [00:01<00:00,  1.00s/it]               \u001b[A\u001b[A\u001b[A\u001b[A\u001b[A\n",
            "\n",
            "\n",
            "\n",
            "\n",
            "click-8.1.7          | 151 KB    | : 100% 1.0/1 [00:01<00:00,  1.00s/it]\u001b[A\u001b[A\u001b[A\u001b[A\u001b[A\n",
            "                                                                        \n",
            "                                                                        \u001b[A\n",
            "\n",
            "                                                                        \u001b[A\u001b[A\n",
            "\n",
            "\n",
            "                                                                        \u001b[A\u001b[A\u001b[A\n",
            "\n",
            "\n",
            "\n",
            "                                                                        \u001b[A\u001b[A\u001b[A\u001b[A\n",
            "\n",
            "\n",
            "\n",
            "\n",
            "                                                                        \u001b[A\u001b[A\u001b[A\u001b[A\u001b[A\n",
            "\n",
            "\n",
            "\n",
            "\n",
            "\n",
            "                                                                        \u001b[A\u001b[A\u001b[A\u001b[A\u001b[A\u001b[A\n",
            "Preparing transaction: / \b\bdone\n",
            "Verifying transaction: \\ \b\b| \b\bdone\n",
            "Executing transaction: - \b\b\\ \b\b| \b\bdone\n"
          ]
        }
      ]
    },
    {
      "cell_type": "markdown",
      "source": [
        "**Nota**:\n",
        "\n",
        "Hasta aquí probablemente te apareció un mensaje del reinicio de la sesión.\n",
        "\n",
        "No te preocupes, ejecuta la siguiente celda para verificar la instalación"
      ],
      "metadata": {
        "id": "ZUgVXvYPp0Y7"
      },
      "id": "ZUgVXvYPp0Y7"
    },
    {
      "cell_type": "code",
      "source": [
        "!conda --version"
      ],
      "metadata": {
        "colab": {
          "base_uri": "https://localhost:8080/"
        },
        "id": "vcYtfRTlTwnL",
        "outputId": "b8623ebc-e977-4ab9-fd8f-ac1a1f970e8f"
      },
      "id": "vcYtfRTlTwnL",
      "execution_count": 1,
      "outputs": [
        {
          "output_type": "stream",
          "name": "stdout",
          "text": [
            "conda 23.11.0\n"
          ]
        }
      ]
    },
    {
      "cell_type": "code",
      "execution_count": 2,
      "id": "448d37dc-8d37-4c2a-9744-2a739989cc86",
      "metadata": {
        "id": "448d37dc-8d37-4c2a-9744-2a739989cc86"
      },
      "outputs": [],
      "source": [
        "import nltk"
      ]
    },
    {
      "cell_type": "code",
      "execution_count": 3,
      "id": "740a123d-39f6-4085-9e0e-19cb05ce259f",
      "metadata": {
        "id": "740a123d-39f6-4085-9e0e-19cb05ce259f",
        "colab": {
          "base_uri": "https://localhost:8080/"
        },
        "outputId": "922c13a8-ecff-474c-cd6c-b22f1d446510"
      },
      "outputs": [
        {
          "name": "stdout",
          "output_type": "stream",
          "text": [
            "NLTK Downloader\n",
            "---------------------------------------------------------------------------\n",
            "    d) Download   l) List    u) Update   c) Config   h) Help   q) Quit\n",
            "---------------------------------------------------------------------------\n",
            "Downloader> q\n"
          ]
        },
        {
          "output_type": "execute_result",
          "data": {
            "text/plain": [
              "True"
            ]
          },
          "metadata": {},
          "execution_count": 3
        }
      ],
      "source": [
        "nltk.download()\n",
        "# \"q\" para salir\n",
        "# nltk.download('stopwords'), esta descarga es requerida más adelante"
      ]
    },
    {
      "cell_type": "markdown",
      "id": "db1e4571-cf78-4e25-85d5-873761f42899",
      "metadata": {
        "id": "db1e4571-cf78-4e25-85d5-873761f42899"
      },
      "source": [
        "# 2. Análisis de discursos de presidentes en la ONU\n",
        "\n",
        "Los representantes de los países de todo el mundo se reúnen todos los años para la reunión General\n",
        "de las Naciones Unidas. El archivo JSON llamado __\"session74.json\"__ contiene los discursos\n",
        "pronunciados por delegados de cuatro países durante el Debate General de la 74.a Sesión (2019) de esa asamblea:\n",
        "Francia, Rusia, Turquía y Estados Unidos. Todos los discursos están en idioma inglés."
      ]
    },
    {
      "cell_type": "markdown",
      "source": [
        "## 2.1 Cargamos el texto"
      ],
      "metadata": {
        "id": "WiKWw46o5P18"
      },
      "id": "WiKWw46o5P18"
    },
    {
      "cell_type": "code",
      "source": [
        "import nltk\n",
        "nltk.download('punkt')\n",
        "nltk.download(\"stopwords\")\n",
        "\n",
        "# Descargamos los discursos\n",
        "!wget -O session74.json https://raw.githubusercontent.com/inefable12/nlp/refs/heads/main/session74.json\n",
        "session = \"session74.json\"\n",
        "# Cargamos el texto\n",
        "file = open(session,'rt')\n",
        "text = file.read()\n",
        "file.close()"
      ],
      "metadata": {
        "colab": {
          "base_uri": "https://localhost:8080/"
        },
        "id": "9EnzSyAM9CJ2",
        "outputId": "2b6d33ef-c842-4357-d1d7-f88df08b05b1"
      },
      "id": "9EnzSyAM9CJ2",
      "execution_count": 4,
      "outputs": [
        {
          "output_type": "stream",
          "name": "stderr",
          "text": [
            "[nltk_data] Downloading package punkt to /root/nltk_data...\n",
            "[nltk_data]   Unzipping tokenizers/punkt.zip.\n",
            "[nltk_data] Downloading package stopwords to /root/nltk_data...\n",
            "[nltk_data]   Unzipping corpora/stopwords.zip.\n"
          ]
        },
        {
          "output_type": "stream",
          "name": "stdout",
          "text": [
            "--2024-12-13 23:10:20--  https://raw.githubusercontent.com/inefable12/nlp/refs/heads/main/session74.json\n",
            "Resolving raw.githubusercontent.com (raw.githubusercontent.com)... 185.199.111.133, 185.199.108.133, 185.199.110.133, ...\n",
            "Connecting to raw.githubusercontent.com (raw.githubusercontent.com)|185.199.111.133|:443... connected.\n",
            "HTTP request sent, awaiting response... 200 OK\n",
            "Length: 95253 (93K) [text/plain]\n",
            "Saving to: ‘session74.json’\n",
            "\n",
            "session74.json      100%[===================>]  93.02K  --.-KB/s    in 0.01s   \n",
            "\n",
            "2024-12-13 23:10:20 (7.12 MB/s) - ‘session74.json’ saved [95253/95253]\n",
            "\n"
          ]
        }
      ]
    },
    {
      "cell_type": "markdown",
      "id": "6302f500-0c57-4007-97e2-e2e0eb64b868",
      "metadata": {
        "id": "6302f500-0c57-4007-97e2-e2e0eb64b868"
      },
      "source": [
        "### A. Escriba un código que cargue los cuatro documentos (discursos) y los procese previamente. Específicamente, tokenizar cada documento, eliminar palabras vacías, eliminar la puntuación y convertir cada palabra en minúsculas."
      ]
    },
    {
      "cell_type": "code",
      "execution_count": 5,
      "id": "f505a68d-6227-4d18-932f-2d901551ed52",
      "metadata": {
        "id": "f505a68d-6227-4d18-932f-2d901551ed52"
      },
      "outputs": [],
      "source": [
        "# Separar discursos\n",
        "import json\n",
        "speeches = json.loads(text)\n",
        "france = speeches[\"France\"]\n",
        "united_states = speeches[\"USA\"]\n",
        "russia = speeches[\"Russia\"]\n",
        "turkey = speeches[\"Turkey\"]"
      ]
    },
    {
      "cell_type": "markdown",
      "id": "04365d66-bc17-4cd1-ada4-d9c3cecd9247",
      "metadata": {
        "id": "04365d66-bc17-4cd1-ada4-d9c3cecd9247"
      },
      "source": [
        "#### Tokenización"
      ]
    },
    {
      "cell_type": "code",
      "source": [
        "import nltk\n",
        "nltk.download('punkt_tab')"
      ],
      "metadata": {
        "colab": {
          "base_uri": "https://localhost:8080/"
        },
        "id": "x3-lp2Hse2e3",
        "outputId": "21eb7b80-8676-4834-cc0d-30faa41eee9f"
      },
      "id": "x3-lp2Hse2e3",
      "execution_count": 6,
      "outputs": [
        {
          "output_type": "stream",
          "name": "stderr",
          "text": [
            "[nltk_data] Downloading package punkt_tab to /root/nltk_data...\n",
            "[nltk_data]   Unzipping tokenizers/punkt_tab.zip.\n"
          ]
        },
        {
          "output_type": "execute_result",
          "data": {
            "text/plain": [
              "True"
            ]
          },
          "metadata": {},
          "execution_count": 6
        }
      ]
    },
    {
      "cell_type": "code",
      "execution_count": 7,
      "id": "4505aced-8934-45d6-b4ac-ee6d868d0fe4",
      "metadata": {
        "id": "4505aced-8934-45d6-b4ac-ee6d868d0fe4"
      },
      "outputs": [],
      "source": [
        "from nltk.tokenize import word_tokenize, sent_tokenize"
      ]
    },
    {
      "cell_type": "code",
      "execution_count": 8,
      "id": "e1ca175f-c1cd-4367-b0af-1e4e4e560819",
      "metadata": {
        "id": "e1ca175f-c1cd-4367-b0af-1e4e4e560819"
      },
      "outputs": [],
      "source": [
        "tk_france = word_tokenize(france)"
      ]
    },
    {
      "cell_type": "code",
      "execution_count": 9,
      "id": "f5850570-372d-4957-a8ed-291d46f82587",
      "metadata": {
        "id": "f5850570-372d-4957-a8ed-291d46f82587"
      },
      "outputs": [],
      "source": [
        "# Librerias necesarias\n",
        "from nltk.tokenize import word_tokenize\n",
        "import string\n",
        "from nltk.corpus import stopwords"
      ]
    },
    {
      "cell_type": "code",
      "execution_count": 10,
      "id": "0a350670-ba36-46ac-8915-6fda9742feff",
      "metadata": {
        "id": "0a350670-ba36-46ac-8915-6fda9742feff"
      },
      "outputs": [],
      "source": [
        "# tokens por pais\n",
        "tokenized_country = {}\n",
        "for country in speeches:\n",
        "\n",
        "    # split into words\n",
        "    tokens = word_tokenize(speeches[country])\n",
        "\n",
        "    # convert to lower case\n",
        "    tokens = [w.lower() for w in tokens]\n",
        "\n",
        "    # remove punctuation from each word\n",
        "    table = str.maketrans('', '', string.punctuation)\n",
        "    stripped = [w.translate(table) for w in tokens]\n",
        "\n",
        "    # remove remaining tokens that are not alphabetic\n",
        "    words = [word for word in stripped if word.isalpha()]\n",
        "\n",
        "    # filter out stop words\n",
        "    stop_words = set(stopwords.words('english'))\n",
        "    words = [w for w in words if not w in stop_words]\n",
        "\n",
        "    tokenized_country[country] = words"
      ]
    },
    {
      "cell_type": "code",
      "execution_count": 11,
      "id": "b68ef106-0155-4001-9ebe-18cb62dba00d",
      "metadata": {
        "colab": {
          "base_uri": "https://localhost:8080/"
        },
        "id": "b68ef106-0155-4001-9ebe-18cb62dba00d",
        "outputId": "45d702bb-2d79-41ab-e666-d6e66ea7da19"
      },
      "outputs": [
        {
          "output_type": "execute_result",
          "data": {
            "text/plain": [
              "dict_keys(['France', 'Russia', 'Turkey', 'USA'])"
            ]
          },
          "metadata": {},
          "execution_count": 11
        }
      ],
      "source": [
        "speeches.keys()"
      ]
    },
    {
      "cell_type": "code",
      "execution_count": 12,
      "id": "5acff8e3-aa16-4ff7-b04c-a9eaa23c1584",
      "metadata": {
        "colab": {
          "base_uri": "https://localhost:8080/"
        },
        "id": "5acff8e3-aa16-4ff7-b04c-a9eaa23c1584",
        "outputId": "b601983c-5687-43d2-9c81-b5a334f19972"
      },
      "outputs": [
        {
          "output_type": "execute_result",
          "data": {
            "text/plain": [
              "dict_keys(['France', 'Russia', 'Turkey', 'USA'])"
            ]
          },
          "metadata": {},
          "execution_count": 12
        }
      ],
      "source": [
        "tokenized_country.keys()"
      ]
    },
    {
      "cell_type": "code",
      "execution_count": 15,
      "id": "2c626951-1db5-4aa5-bc72-4433644685e5",
      "metadata": {
        "colab": {
          "base_uri": "https://localhost:8080/"
        },
        "id": "2c626951-1db5-4aa5-bc72-4433644685e5",
        "outputId": "a3d01da1-eb57-4623-8021-31635e2478cd"
      },
      "outputs": [
        {
          "output_type": "execute_result",
          "data": {
            "text/plain": [
              "['gathered',\n",
              " 'general',\n",
              " 'assembly',\n",
              " 'time',\n",
              " 'secretarygeneral',\n",
              " 'chosen',\n",
              " 'important',\n",
              " 'theme',\n",
              " 'climate',\n",
              " 'met']"
            ]
          },
          "metadata": {},
          "execution_count": 15
        }
      ],
      "source": [
        "tokenized_country['France'][0:10]"
      ]
    },
    {
      "cell_type": "code",
      "execution_count": 16,
      "id": "8b2dfbae-058e-4efd-9dc7-ab8cd63934a7",
      "metadata": {
        "colab": {
          "base_uri": "https://localhost:8080/",
          "height": 36
        },
        "id": "8b2dfbae-058e-4efd-9dc7-ab8cd63934a7",
        "outputId": "3ac646eb-3f3a-4d08-b5b0-9d152b07b481"
      },
      "outputs": [
        {
          "output_type": "execute_result",
          "data": {
            "text/plain": [
              "'We are gathered here at the General Assembly at a time when the Secretary-General has chosen the ver'"
            ],
            "application/vnd.google.colaboratory.intrinsic+json": {
              "type": "string"
            }
          },
          "metadata": {},
          "execution_count": 16
        }
      ],
      "source": [
        "speeches['France'][0:100]"
      ]
    },
    {
      "cell_type": "markdown",
      "source": [
        "Observamos que palabras como \"we\", \"are\", \"here\", etc, han sido tokenizados"
      ],
      "metadata": {
        "id": "gnQH34dO-otf"
      },
      "id": "gnQH34dO-otf"
    },
    {
      "cell_type": "code",
      "execution_count": 17,
      "id": "8b9f0e85-329f-4cce-9d39-3c93db6060ef",
      "metadata": {
        "colab": {
          "base_uri": "https://localhost:8080/"
        },
        "id": "8b9f0e85-329f-4cce-9d39-3c93db6060ef",
        "outputId": "88396a21-b07d-4085-c154-ca52c9f8249a"
      },
      "outputs": [
        {
          "output_type": "execute_result",
          "data": {
            "text/plain": [
              "['getting',\n",
              " 'ever',\n",
              " 'closer',\n",
              " 'seventyfifth',\n",
              " 'anniversary',\n",
              " 'united',\n",
              " 'nations',\n",
              " 'established',\n",
              " 'thanks',\n",
              " 'victory']"
            ]
          },
          "metadata": {},
          "execution_count": 17
        }
      ],
      "source": [
        "tokenized_country['Russia'][0:10]"
      ]
    },
    {
      "cell_type": "code",
      "execution_count": 18,
      "id": "7e719b2a-4698-49e0-8f3e-ddb9434fd79e",
      "metadata": {
        "colab": {
          "base_uri": "https://localhost:8080/",
          "height": 36
        },
        "id": "7e719b2a-4698-49e0-8f3e-ddb9434fd79e",
        "outputId": "c04906d8-c3bc-4e2d-c206-9887bd0c2401"
      },
      "outputs": [
        {
          "output_type": "execute_result",
          "data": {
            "text/plain": [
              "'We are getting ever closer to the seventy-fifth anniversary of the United Nations, which was establi'"
            ],
            "application/vnd.google.colaboratory.intrinsic+json": {
              "type": "string"
            }
          },
          "metadata": {},
          "execution_count": 18
        }
      ],
      "source": [
        "speeches['Russia'][0:100]"
      ]
    },
    {
      "cell_type": "markdown",
      "id": "523851a8-0e58-4d30-94c0-9ff91db0555f",
      "metadata": {
        "id": "523851a8-0e58-4d30-94c0-9ff91db0555f"
      },
      "source": [
        "### B. Busque los 10 tokens más frecuentes para cada documento (país) e informe resultados como su respuesta."
      ]
    },
    {
      "cell_type": "code",
      "execution_count": 19,
      "id": "89d2e67e-1521-4ef5-b90f-db1bf2e464ff",
      "metadata": {
        "id": "89d2e67e-1521-4ef5-b90f-db1bf2e464ff"
      },
      "outputs": [],
      "source": [
        "from nltk import FreqDist"
      ]
    },
    {
      "cell_type": "code",
      "execution_count": 20,
      "id": "674cf019-3f8f-4c85-a988-82bdfa7ccf8c",
      "metadata": {
        "colab": {
          "base_uri": "https://localhost:8080/"
        },
        "id": "674cf019-3f8f-4c85-a988-82bdfa7ccf8c",
        "outputId": "465d03c0-9bd1-424e-98fd-6c2c7a67c697"
      },
      "outputs": [
        {
          "output_type": "execute_result",
          "data": {
            "text/plain": [
              "dict_keys(['France', 'Russia', 'Turkey', 'USA'])"
            ]
          },
          "metadata": {},
          "execution_count": 20
        }
      ],
      "source": [
        "tokenized_country.keys()"
      ]
    },
    {
      "cell_type": "code",
      "execution_count": 21,
      "id": "ecc7c4ab-b10b-4d27-8ece-6899784f8b30",
      "metadata": {
        "colab": {
          "base_uri": "https://localhost:8080/"
        },
        "id": "ecc7c4ab-b10b-4d27-8ece-6899784f8b30",
        "outputId": "4eddfe99-71f0-477c-e027-2462ebe1300d"
      },
      "outputs": [
        {
          "output_type": "execute_result",
          "data": {
            "text/plain": [
              "[('must', 36),\n",
              " ('believe', 23),\n",
              " ('climate', 22),\n",
              " ('countries', 20),\n",
              " ('change', 19),\n",
              " ('courage', 19),\n",
              " ('fight', 17),\n",
              " ('us', 16),\n",
              " ('many', 15),\n",
              " ('agenda', 15)]"
            ]
          },
          "metadata": {},
          "execution_count": 21
        }
      ],
      "source": [
        "fdist = FreqDist(tokenized_country['France'])\n",
        "fdist.most_common(10)"
      ]
    },
    {
      "cell_type": "code",
      "execution_count": 22,
      "id": "ff0ac5ff-1393-4da4-98ab-bc36b2de4eb7",
      "metadata": {
        "colab": {
          "base_uri": "https://localhost:8080/"
        },
        "id": "ff0ac5ff-1393-4da4-98ab-bc36b2de4eb7",
        "outputId": "cb157e2a-58be-42e4-a91c-62eb438a22ad"
      },
      "outputs": [
        {
          "output_type": "execute_result",
          "data": {
            "text/plain": [
              "[('united', 24),\n",
              " ('security', 23),\n",
              " ('states', 20),\n",
              " ('nations', 17),\n",
              " ('international', 15),\n",
              " ('countries', 14),\n",
              " ('russia', 14),\n",
              " ('also', 13),\n",
              " ('world', 12),\n",
              " ('rules', 11)]"
            ]
          },
          "metadata": {},
          "execution_count": 22
        }
      ],
      "source": [
        "fdist = FreqDist(tokenized_country['Russia'])\n",
        "fdist.most_common(10)"
      ]
    },
    {
      "cell_type": "code",
      "source": [
        "import seaborn as sns\n",
        "import matplotlib.pyplot as plt\n",
        "data = fdist.most_common(10)\n",
        "\n",
        "# Desempaquetamos las palabras y sus frecuencias\n",
        "words, frequencies = zip(*data)\n",
        "\n",
        "# Creamos un DataFrame para seaborn\n",
        "import pandas as pd\n",
        "df = pd.DataFrame({'word': words, 'frequency': frequencies})\n",
        "\n",
        "# Graficamos\n",
        "plt.figure(figsize=(6, 4))\n",
        "sns.barplot(x='word', y='frequency', data=df, palette='Blues_d', hue=frequencies)\n",
        "\n",
        "# Agregamos título y etiquetas\n",
        "plt.title('Palabras más repetidas en discurso del presidente ruso', fontsize=14)\n",
        "plt.xlabel('Words', fontsize=12)\n",
        "plt.ylabel('Frequency', fontsize=12)\n",
        "plt.xticks(rotation=45, ha='right')\n",
        "\n",
        "# Mostrar la gráfica\n",
        "plt.tight_layout()\n",
        "plt.show();"
      ],
      "metadata": {
        "colab": {
          "base_uri": "https://localhost:8080/",
          "height": 407
        },
        "id": "z9moLBOYVBET",
        "outputId": "a412b7b1-477e-4624-e55b-93a33f19c1ab"
      },
      "id": "z9moLBOYVBET",
      "execution_count": 48,
      "outputs": [
        {
          "output_type": "display_data",
          "data": {
            "text/plain": [
              "<Figure size 600x400 with 1 Axes>"
            ],
            "image/png": "[encoded data removed]"
          },
          "metadata": {}
        }
      ]
    },
    {
      "cell_type": "markdown",
      "source": [
        "En resumen, tokens son sustantivos y/o verbos, mientras que los stopwords son artículos, conectores, etc."
      ],
      "metadata": {
        "id": "VgYHOFGo_ccN"
      },
      "id": "VgYHOFGo_ccN"
    },
    {
      "cell_type": "markdown",
      "id": "869dafca-b11c-46f2-a889-084bd1079c0c",
      "metadata": {
        "id": "869dafca-b11c-46f2-a889-084bd1079c0c"
      },
      "source": [
        "### C. Encuentra dos tokens seguidos que se mencionan constantemente"
      ]
    },
    {
      "cell_type": "code",
      "execution_count": 23,
      "id": "1876ed8b-460f-4f34-96eb-30aa8308c285",
      "metadata": {
        "id": "1876ed8b-460f-4f34-96eb-30aa8308c285"
      },
      "outputs": [],
      "source": [
        "import collections"
      ]
    },
    {
      "cell_type": "code",
      "execution_count": 25,
      "id": "65e9b6da-b1dd-4884-a36b-5a7ffcb59b52",
      "metadata": {
        "id": "65e9b6da-b1dd-4884-a36b-5a7ffcb59b52"
      },
      "outputs": [],
      "source": [
        "# Para generar n-grams\n",
        "ngrams_russia = list(nltk.ngrams(tokenized_country[\"Russia\"],2))"
      ]
    },
    {
      "cell_type": "code",
      "source": [
        "ngrams_russia[0:5]"
      ],
      "metadata": {
        "colab": {
          "base_uri": "https://localhost:8080/"
        },
        "id": "S1TfPf32T78k",
        "outputId": "bb3a5780-6da0-43e5-cd44-36b1ac51354d"
      },
      "id": "S1TfPf32T78k",
      "execution_count": 31,
      "outputs": [
        {
          "output_type": "execute_result",
          "data": {
            "text/plain": [
              "[('getting', 'ever'),\n",
              " ('ever', 'closer'),\n",
              " ('closer', 'seventyfifth'),\n",
              " ('seventyfifth', 'anniversary'),\n",
              " ('anniversary', 'united')]"
            ]
          },
          "metadata": {},
          "execution_count": 31
        }
      ]
    },
    {
      "cell_type": "code",
      "execution_count": 26,
      "id": "7510b3b2-3241-4528-aa9e-f878dafda59a",
      "metadata": {
        "id": "7510b3b2-3241-4528-aa9e-f878dafda59a"
      },
      "outputs": [],
      "source": [
        "ngrams_usa = list(nltk.ngrams(tokenized_country[\"USA\"],2))"
      ]
    },
    {
      "cell_type": "code",
      "execution_count": 27,
      "id": "52d39067-5902-428d-bb94-54e7ae0b250d",
      "metadata": {
        "id": "52d39067-5902-428d-bb94-54e7ae0b250d"
      },
      "outputs": [],
      "source": [
        "# using Counter to find frequency of elements\n",
        "ngrams_russia_count = collections.Counter(ngrams_russia)\n",
        "ngrams_usa_count = collections.Counter(ngrams_usa)  # dictionary"
      ]
    },
    {
      "cell_type": "code",
      "execution_count": 32,
      "id": "43a08a3d-41ed-4bc1-bc4d-43ee8b798180",
      "metadata": {
        "colab": {
          "base_uri": "https://localhost:8080/"
        },
        "id": "43a08a3d-41ed-4bc1-bc4d-43ee8b798180",
        "outputId": "87734af7-4cb6-4dd7-d041-232aebc256b5"
      },
      "outputs": [
        {
          "output_type": "execute_result",
          "data": {
            "text/plain": [
              "[(('getting', 'ever'), 1),\n",
              " (('ever', 'closer'), 1),\n",
              " (('closer', 'seventyfifth'), 1),\n",
              " (('seventyfifth', 'anniversary'), 1),\n",
              " (('anniversary', 'united'), 2),\n",
              " (('united', 'nations'), 15),\n",
              " (('nations', 'established'), 1),\n",
              " (('established', 'thanks'), 1),\n",
              " (('thanks', 'victory'), 1),\n",
              " (('victory', 'second'), 1)]"
            ]
          },
          "metadata": {},
          "execution_count": 32
        }
      ],
      "source": [
        "# Primeros 10 ngrams\n",
        "ngrams_russia_items = ngrams_russia_count.items()\n",
        "first_russia = list(ngrams_russia_items)[:10]\n",
        "first_russia"
      ]
    },
    {
      "cell_type": "code",
      "execution_count": 33,
      "id": "102fe360-f9a7-41b2-a866-6d3973542749",
      "metadata": {
        "id": "102fe360-f9a7-41b2-a866-6d3973542749"
      },
      "outputs": [],
      "source": [
        "a1 = ngrams_russia_count.copy()  # copiar diccionario\n",
        "a1_sorted_keys = sorted(a1, key=a1.get, reverse=True)  # ordenar los valores del diccionario\n",
        "collections_russia = []  # listar clave y valor del diccionario ya ordenado\n",
        "for r in a1_sorted_keys:\n",
        "    collections_russia.append((r, a1[r]))"
      ]
    },
    {
      "cell_type": "markdown",
      "source": [
        "Resultado en orden decreciente"
      ],
      "metadata": {
        "id": "7wNTg5PlUg5o"
      },
      "id": "7wNTg5PlUg5o"
    },
    {
      "cell_type": "code",
      "execution_count": 34,
      "id": "a5014a30-bdda-435a-8c3d-e154d7f6d262",
      "metadata": {
        "colab": {
          "base_uri": "https://localhost:8080/"
        },
        "id": "a5014a30-bdda-435a-8c3d-e154d7f6d262",
        "outputId": "9870525b-fb83-4034-dd07-649fec10a64a"
      },
      "outputs": [
        {
          "output_type": "execute_result",
          "data": {
            "text/plain": [
              "[(('united', 'nations'), 15),\n",
              " (('security', 'council'), 10),\n",
              " (('united', 'states'), 9),\n",
              " (('international', 'law'), 6),\n",
              " (('world', 'war'), 3),\n",
              " (('international', 'community'), 3),\n",
              " (('council', 'resolutions'), 3),\n",
              " (('would', 'like'), 3),\n",
              " (('general', 'assembly'), 3),\n",
              " (('president', 'putin'), 3)]"
            ]
          },
          "metadata": {},
          "execution_count": 34
        }
      ],
      "source": [
        "collections_russia[:10]"
      ]
    },
    {
      "cell_type": "code",
      "source": [
        "import seaborn as sns\n",
        "import matplotlib.pyplot as plt\n",
        "import pandas as pd\n",
        "\n",
        "# Datos obtenidos (bigrams y frecuencias)\n",
        "data = [(('united', 'nations'), 15),\n",
        "        (('security', 'council'), 10),\n",
        "        (('united', 'states'), 9),\n",
        "        (('international', 'law'), 6),\n",
        "        (('world', 'war'), 3),\n",
        "        (('international', 'community'), 3),\n",
        "        (('council', 'resolutions'), 3),\n",
        "        (('would', 'like'), 3),\n",
        "        (('general', 'assembly'), 3),\n",
        "        (('president', 'putin'), 3)]\n",
        "\n",
        "# Desempaquetamos los bigramas y sus frecuencias\n",
        "bigrams, frequencies = zip(*data)\n",
        "bigrams = [' '.join(bigram) for bigram in bigrams]  # Convertimos los bigrams a string\n",
        "\n",
        "# Creamos un DataFrame para seaborn\n",
        "df = pd.DataFrame({'bigram': bigrams, 'frequency': frequencies})\n",
        "\n",
        "# Graficamos con Seaborn\n",
        "plt.figure(figsize=(10, 6))\n",
        "sns.barplot(x='frequency', y='bigram', data=df, palette='Blues_d')\n",
        "\n",
        "# Agregamos título y etiquetas\n",
        "plt.title('Top 10 Bigrams Frequency', fontsize=14)\n",
        "plt.xlabel('Frequency', fontsize=12)\n",
        "plt.ylabel('Bigram', fontsize=12)\n",
        "\n",
        "# Mostrar la gráfica\n",
        "plt.tight_layout();\n",
        "plt.show();"
      ],
      "metadata": {
        "colab": {
          "base_uri": "https://localhost:8080/",
          "height": 694
        },
        "id": "O9UvgV-EWiCn",
        "outputId": "e81deb47-9754-4f4d-cec2-ce10898a5c10"
      },
      "id": "O9UvgV-EWiCn",
      "execution_count": 59,
      "outputs": [
        {
          "output_type": "stream",
          "name": "stderr",
          "text": [
            "<ipython-input-59-a1b2e3ced52d>:26: FutureWarning: \n",
            "\n",
            "Passing `palette` without assigning `hue` is deprecated and will be removed in v0.14.0. Assign the `y` variable to `hue` and set `legend=False` for the same effect.\n",
            "\n",
            "  sns.barplot(x='frequency', y='bigram', data=df, palette='Blues_d')\n"
          ]
        },
        {
          "output_type": "display_data",
          "data": {
            "text/plain": [
              "<Figure size 1000x600 with 1 Axes>"
            ],
            "image/png": "[encoded data removed]"
          },
          "metadata": {}
        }
      ]
    }
  ],
  "metadata": {
    "kernelspec": {
      "display_name": "Python 3",
      "language": "python",
      "name": "python3"
    },
    "language_info": {
      "codemirror_mode": {
        "name": "ipython",
        "version": 3
      },
      "file_extension": ".py",
      "mimetype": "text/x-python",
      "name": "python",
      "nbconvert_exporter": "python",
      "pygments_lexer": "ipython3",
      "version": "3.7.7"
    },
    "colab": {
      "provenance": [],
      "collapsed_sections": [
        "88704b28-c64d-4693-a4be-752d5578339c"
      ],
      "include_colab_link": true
    }
  },
  "nbformat": 4,
  "nbformat_minor": 5
}