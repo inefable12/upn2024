{
  "nbformat": 4,
  "nbformat_minor": 0,
  "metadata": {
    "colab": {
      "provenance": [],
      "authorship_tag": "ABX9TyMsrCsPIjZbsen3HW0Nvb+F",
      "include_colab_link": true
    },
    "kernelspec": {
      "name": "python3",
      "display_name": "Python 3"
    },
    "language_info": {
      "name": "python"
    }
  },
  "cells": [
    {
      "cell_type": "markdown",
      "metadata": {
        "id": "view-in-github",
        "colab_type": "text"
      },
      "source": [
        "<a href=\"https://colab.research.google.com/github/inefable12/upn2024/blob/main/Clase2_A_trome_actualizado.ipynb\" target=\"_parent\"><img src=\"https://colab.research.google.com/assets/colab-badge.svg\" alt=\"Open In Colab\"/></a>"
      ]
    },
    {
      "cell_type": "markdown",
      "source": [
        "<img src=\"https://media.giphy.com/avatars/UPN_edu/BohC4JwcStCB.gif\" width=\"100\" alt=\"nlp logo\"  />\n",
        "\n",
        "___\n",
        "\n",
        "$$\\large\\textbf{Codificación para el análisis de datos para no programadores}$$\n",
        "$$\\textit{Parte Práctica A: Web scrapping al diario Trome}$$\n",
        "\n",
        "_Docente: Jesus Alvarado Huayhuaz_\n",
        "\n",
        "_13 de diciembre de 2024_\n",
        "___\n"
      ],
      "metadata": {
        "id": "f1f6Iu6G8ztX"
      }
    },
    {
      "cell_type": "markdown",
      "source": [
        "A modo de ejercicio, vamos a extraer parte del texto del enlace https://trome.com/actualidad/agustin-lozano-fiscalia-deja-sin-efecto-acusacion-por-organizacion-criminal-contra-presidente-de-la-federacion-peruana-de-futbol-noticia/"
      ],
      "metadata": {
        "id": "GjQIq7RABXSC"
      }
    },
    {
      "cell_type": "markdown",
      "source": [
        "# 1. Requerimientos"
      ],
      "metadata": {
        "id": "8MFt-VFI7z5G"
      }
    },
    {
      "cell_type": "markdown",
      "source": [
        "Recuerda que usando \"#@title mititulo\" y luego en Formulario se seleccionó \"Ocultar código\" para facilitar el uso de este colab"
      ],
      "metadata": {
        "id": "QXPcAX6iP-jj"
      }
    },
    {
      "cell_type": "code",
      "source": [
        "#@title mititulo\n",
        "\n",
        "# Install Google-Chrome\n",
        "%%capture\n",
        "!wget https://dl.google.com/linux/direct/google-chrome-stable_current_amd64.deb\n",
        "!dpkg -i google-chrome-stable_current_amd64.deb\n",
        "!apt-get install -f\n",
        "!rm -rf google-chrome-stable_current_amd64.deb\n",
        "# Install dependencies for install Google-Chrome\n",
        "!sudo apt-get update\n",
        "!sudo apt-get install -y libu2f-udev\n",
        "!pip install selenium"
      ],
      "metadata": {
        "id": "LmnVTqpUPtm0",
        "cellView": "form"
      },
      "execution_count": 1,
      "outputs": []
    },
    {
      "cell_type": "code",
      "source": [
        "#@title Importar librerías\n",
        "\n",
        "import pandas as pd\n",
        "import numpy as np\n",
        "from selenium import webdriver\n",
        "import time\n",
        "from selenium.webdriver.chrome.options import Options\n",
        "from selenium.webdriver.chrome.service import Service"
      ],
      "metadata": {
        "id": "maKye38-QaQL",
        "cellView": "form"
      },
      "execution_count": 2,
      "outputs": []
    },
    {
      "cell_type": "markdown",
      "source": [
        "# 2. Inicio"
      ],
      "metadata": {
        "id": "t6j24VM27SuK"
      }
    },
    {
      "cell_type": "code",
      "source": [
        "#@title Generamos el driver\n",
        "\n",
        "chrome_options = webdriver.ChromeOptions()\n",
        "chrome_options.add_argument('--headless')\n",
        "chrome_options.add_argument('--no-sandbox')\n",
        "chrome_driver_path = '/content/chromedriver'\n",
        "chrome_service = webdriver.ChromeService(chrome_driver_path)\n",
        "driver = webdriver.Chrome(options=chrome_options)"
      ],
      "metadata": {
        "id": "MZxYYwhVPquN"
      },
      "execution_count": 3,
      "outputs": []
    },
    {
      "cell_type": "markdown",
      "source": [
        "Nos dirigimos a la página web, identificamos el campo requerido y luego seleccionamos con clic derecho \"Copiar como XPath\""
      ],
      "metadata": {
        "id": "jn9-ggsCQdpE"
      }
    },
    {
      "cell_type": "markdown",
      "source": [
        "//*[@id=\"contenedor\"]/div/section/p[4]"
      ],
      "metadata": {
        "id": "B_s3DzEkRukR"
      }
    },
    {
      "cell_type": "code",
      "source": [
        "driver.get(\"https://trome.com/actualidad/agustin-lozano-fiscalia-deja-sin-efecto-acusacion-por-organizacion-criminal-contra-presidente-de-la-federacion-peruana-de-futbol-noticia\")\n",
        "time.sleep(5)\n",
        "campo_requerido = driver.find_element(\"xpath\",'//*[@id=\"contenedor\"]/div/section/p[4]')\n",
        "print('Campo seleccionado: '+ campo_requerido.text)"
      ],
      "metadata": {
        "id": "5uXy-LOXP5WW",
        "colab": {
          "base_uri": "https://localhost:8080/"
        },
        "outputId": "72e30c29-774f-4e68-a94f-d17d39ce0753"
      },
      "execution_count": 4,
      "outputs": [
        {
          "output_type": "stream",
          "name": "stdout",
          "text": [
            "Campo seleccionado: Recordemos que Agustín Lozano y un grupo de directivos fueron detenidos la madrugada del 7 de noviembre. El día 19, las autoridades judiciales decidieron dejarlo en libertad y este 3 de diciembre la Fiscalía decidió no continuar con la investigación por el presunto delito de lavado de activos.\n"
          ]
        }
      ]
    },
    {
      "cell_type": "markdown",
      "source": [
        "Veamos otro campo seleccionado"
      ],
      "metadata": {
        "id": "D11Dp2WB8y9W"
      }
    },
    {
      "cell_type": "code",
      "source": [
        "driver.get(\"https://trome.com/actualidad/agustin-lozano-fiscalia-deja-sin-efecto-acusacion-por-organizacion-criminal-contra-presidente-de-la-federacion-peruana-de-futbol-noticia\")\n",
        "time.sleep(5)\n",
        "campo_requerido = driver.find_element(\"xpath\",'//*[@id=\"contenedor\"]/div/section/p[6]')\n",
        "print('Campo seleccionado: '+ campo_requerido.text)"
      ],
      "metadata": {
        "id": "ixooafc0J_xu",
        "colab": {
          "base_uri": "https://localhost:8080/"
        },
        "outputId": "372a0662-ecc5-49d3-e039-909340bc1cb3"
      },
      "execution_count": 5,
      "outputs": [
        {
          "output_type": "stream",
          "name": "stdout",
          "text": [
            "Campo seleccionado: El asistente de Ricardo Gareca, responsabilizó a Agustín Lozano por la debacle deportiva de la Selección Peruana por dejarla ‘sin cabeza’. “Pensamos que fácil terminaríamos dentro del pelotón que clasificaba. Agustín Lozano pensó que, de repente, Gareca ya no era necesario, y bueno, tomaron las decisiones que tomaron. Nos olvidamos que los demás iban a reaccionar y nos han pegado una ‘cachetada’”, dijo categórico.\n"
          ]
        }
      ]
    },
    {
      "cell_type": "markdown",
      "source": [
        "¿Identificas la numeración?"
      ],
      "metadata": {
        "id": "EPA0JIcBOnk1"
      }
    },
    {
      "cell_type": "code",
      "source": [
        "driver.get(\"https://trome.com/actualidad/agustin-lozano-fiscalia-deja-sin-efecto-acusacion-por-organizacion-criminal-contra-presidente-de-la-federacion-peruana-de-futbol-noticia\")\n",
        "\n",
        "for i in range(1, 11):\n",
        "    time.sleep(1)\n",
        "    variable = f'//*[@id=\"contenedor\"]/div/section/p[{i}]'\n",
        "    parrafo = driver.find_element(\"xpath\", variable)\n",
        "    print('El párrafo extraido es: ' + parrafo.text)"
      ],
      "metadata": {
        "id": "WBcj7lgdRx-n",
        "colab": {
          "base_uri": "https://localhost:8080/"
        },
        "outputId": "a3959c17-7f6b-4ff2-f3aa-3cc1dd44d59e"
      },
      "execution_count": 9,
      "outputs": [
        {
          "output_type": "stream",
          "name": "stdout",
          "text": [
            "El párrafo extraido es: El Ministerio Público no continuará con la acusación contra el presidente de la Federación Peruana de Fútbol, Agustín Lozano, por el presunto delito de organización criminal, al igual que contra otros directivos de la FPF, en el marco del caso denominado ‘Los Galácticos’.\n",
            "El párrafo extraido es: El estudio de abogados que representa a Lozano informó que tras esta decisión del Ministerio Público queda sin efecto la imputación por dicho delito contra los directivos.\n",
            "El párrafo extraido es: De esta manera quedó cancelada la audiencia programada para el martes 10 de diciembre; sin embargo, trascendió que el mandamás de la FPF aún continuará investigado por el presunto delito de lavado de activos.\n",
            "El párrafo extraido es: Recordemos que Agustín Lozano y un grupo de directivos fueron detenidos la madrugada del 7 de noviembre. El día 19, las autoridades judiciales decidieron dejarlo en libertad y este 3 de diciembre la Fiscalía decidió no continuar con la investigación por el presunto delito de lavado de activos.\n",
            "El párrafo extraido es: Nolberto Solano no ha permanecido indiferente en medio de la crisis que vive la Selección Peruana y también el escándalo legal tras la intervención a la FPF de parte de la Fiscalía.\n",
            "El párrafo extraido es: El asistente de Ricardo Gareca, responsabilizó a Agustín Lozano por la debacle deportiva de la Selección Peruana por dejarla ‘sin cabeza’. “Pensamos que fácil terminaríamos dentro del pelotón que clasificaba. Agustín Lozano pensó que, de repente, Gareca ya no era necesario, y bueno, tomaron las decisiones que tomaron. Nos olvidamos que los demás iban a reaccionar y nos han pegado una ‘cachetada’”, dijo categórico.\n",
            "El párrafo extraido es: MÁS INFORMACIÓN:\n",
            "El párrafo extraido es: \n",
            "El párrafo extraido es: \n",
            "El párrafo extraido es: \n"
          ]
        }
      ]
    },
    {
      "cell_type": "code",
      "source": [
        "driver.get(\"https://trome.com/actualidad/politica/operacion-de-dina-boluarte-expremier-confirma-que-dina-boluarte-se-sometio-a-una-cirugia-plastica-efectivamente-paso-por-un-procedimiento-quirurgico-video-noticia/?ref=tr\")\n",
        "\n",
        "for i in range(1, 14):\n",
        "    time.sleep(5)\n",
        "    variable = f'//*[@id=\"contenedor\"]/div/section/p[{i}]'\n",
        "    parrafo = driver.find_element(\"xpath\", variable)\n",
        "    print('Párrafo: ' + parrafo.text)"
      ],
      "metadata": {
        "id": "ePVQ75Xc-yiv",
        "colab": {
          "base_uri": "https://localhost:8080/"
        },
        "outputId": "40b6e692-5df2-4e91-f89b-205e850ed176"
      },
      "execution_count": 10,
      "outputs": [
        {
          "output_type": "stream",
          "name": "stdout",
          "text": [
            "Párrafo: SÍ SE HIZO ‘RETOQUITOS’. El expresidente del Consejo de Ministros, Alberto Otárola, afirmó ante la Comisión de Fiscalización del Congreso que la presidenta de la República, Dina Boluarte, sí se sometió a una cirugía estética el año pasado, aunque descartó que haya existido un vacío de poder durante la operación de la mandataria debido a que esta siguió trabajando de manera ‘virtual’.\n",
            "Párrafo: “La verdad es que, como es de conocimiento público, la señora presidenta de la República en las fechas indicadas pasó efectivamente por un procedimiento quirúrgico, pero en este procedimiento, como sucede a cualquier persona, no estuvo desatendiendo mucho menos las labores que le competían en el cargo”, explicó.\n",
            "Párrafo: Otárola respondió así sobre el supuesto descanso médico que habría tenido que acatar Dina Boluarte por someterse a una operación quirúrgica a inicios de julio del 2023, cuando el citado por la comisión era presidente del Consejo de Ministros.\n",
            "Párrafo: “Me consta porque yo era presidente del Consejo de Ministros, no puedo faltar a la verdad al decir otra cosa. Ella estuvo en permanente contacto con el suscrito. Tuvimos que hacer una sesión virtual del Consejo de Ministros y en todo momento estuvo atenta al devenir de la administración pública”, garantizó.\n",
            "Párrafo: Aunque en un inicio, Otárola dijo que no daría mayores detalles sobre esta operación, durante el desarrollo de su intervención ante el grupo de trabajo, expresó que Boluarte le manifestó que se realizaría una intervención en la nariz por problemas respiratorios.\n",
            "Párrafo: “El día que se produjo la operación, yo tuve una comunicación al día siguiente con la señora presidenta. Se notaba, por la voz, que había sido intervenida evidentemente de las fosas nasales. A partir de ese momento tuve una comunicación fluida con ella y se reincorporó luego de semana y media a los consejos de ministros presenciales. Pero puedo dar prueba certera que existía una comunicación de ella con migo y asumo que con los otros ministros. Eso es lo que yo sé. Por razones que no m competían no podía preguntar qué se había hecho o cuánto tiempo había estado en descanso médico”, explicó.\n",
            "Párrafo: “No voy a decir nada más al respecto, no solo porque soy respetuosos del derecho que tienen las personas de acudir a procedimientos médicos, sino también porque de haber sido otra la circunstancia, créanme que hubiera dudado en certificar o asegurar un tema distintos”, agregó Alberto Otárola, quien también dijo que fueron testigos de esto todos los ministros que estuvieron trabajando en esas fechas.\n",
            "Párrafo: Otárola dijo no conocer si es que Dina Boluarte cumplió o no con un descanso médico legal debido a la intervención quirúrgica, y pese a la insistencia del presidente de la comisión, Juan Burgos, solo dijo que habló telefónicamente con ella y que luego hubo un Consejo de Ministros con la participación virtual de la mandataria.\n",
            "Párrafo: El ex primer ministro también fue consultado sobre una presunta reunión que sostuvo en diciembre del 2023 con el cirujano Mario Cabani en el Ministerio de Defensa, pero al respecto se limitó a comentar que lo conoce pero no tiene ningún vínculo de amistad o enemistad con él.\n",
            "Párrafo: “Yo conozco, efectivamente, al señor Cabani. Lo conozco como un prestigioso médico, no puedo decir nada más porque realmente no me une ningún tipo de amistad ni enemistad con él. Imagino que él podría aclarar un poco más estos asuntos”, manifestó.\n",
            "Párrafo: Cabe precisar que el cirujano Mario Cabani ha sido citado por la Comisión de Fiscalización para que responda sobre la intervención quirúrgica de Dina Boluarte a mediados del 2023 para este 4 de diciembre.\n",
            "Párrafo: En mayo de este año, cuando se conoció a través de reportes periodísticos que Dina Boluarte habría tenido 12 días de descanso médico entre el 29 de junio y 9 de julio. El vocero de la presidencia, Fredy Hinojosa, se amparó en el “derecho a la intimidad personal” que le asiste a la mandataria para no pronunciarse sobre si esa supuesta ausencia es por una cirugía plástica.\n",
            "Párrafo: “La presidenta de la República (Dina Boluarte), desde el primer día que asumió el cargo, viene ejerciendo a cabalidad y en estricta observancia de la normatividad legal el cargo de presidenta. De tal manera que, de manera constante, incluyendo fines de semana y feriados, la presidenta viene ejerciendo la labor de presidenta”, señaló Hinojosa en mayo.\n"
          ]
        }
      ]
    },
    {
      "cell_type": "markdown",
      "source": [
        "¿Cuál es el número de párrafos?"
      ],
      "metadata": {
        "id": "rCuS53h2BM2n"
      }
    },
    {
      "cell_type": "code",
      "source": [
        "import pandas as pd\n",
        "import numpy as np\n",
        "from selenium import webdriver\n",
        "import time\n",
        "from selenium.webdriver.chrome.options import Options\n",
        "from selenium.webdriver.chrome.service import Service\n",
        "from selenium.common.exceptions import NoSuchElementException\n",
        "\n",
        "def count_paragraphs(url):\n",
        "    chrome_options = webdriver.ChromeOptions()\n",
        "    chrome_options.add_argument('--headless')\n",
        "    chrome_options.add_argument('--no-sandbox')\n",
        "    chrome_driver_path = '/content/chromedriver'\n",
        "    chrome_service = webdriver.ChromeService(chrome_driver_path)\n",
        "    #driver = webdriver.Chrome(options=chrome_options, service=chrome_service)\n",
        "    driver = webdriver.Chrome(options=chrome_options)\n",
        "\n",
        "    driver.get(url)\n",
        "    time.sleep(5)\n",
        "\n",
        "    i = 1\n",
        "    max_i = 0\n",
        "    while True:\n",
        "        try:\n",
        "            variable = f'//*[@id=\"contenedor\"]/div/section/p[{i}]'\n",
        "            parrafo = driver.find_element(\"xpath\", variable)\n",
        "            max_i = i\n",
        "            i +=1\n",
        "        except NoSuchElementException:\n",
        "            break\n",
        "\n",
        "    driver.quit()\n",
        "    return max_i\n",
        "\n",
        "# Example usage\n",
        "url1 = \"https://trome.com/actualidad/agustin-lozano-fiscalia-deja-sin-efecto-acusacion-por-organizacion-criminal-contra-presidente-de-la-federacion-peruana-de-futbol-noticia\"\n",
        "paragraph_count1 = count_paragraphs(url1)\n",
        "print(f\"Number of paragraphs in {url1}: {paragraph_count1}\")\n",
        "\n",
        "url2 = \"https://trome.com/actualidad/politica/operacion-de-dina-boluarte-expremier-confirma-que-dina-boluarte-se-sometio-a-una-cirugia-plastica-efectivamente-paso-por-un-procedimiento-quirurgico-video-noticia/?ref=tr\"\n",
        "paragraph_count2 = count_paragraphs(url2)\n",
        "print(f\"Number of paragraphs in {url2}: {paragraph_count2}\")"
      ],
      "metadata": {
        "id": "6U58pUG8AGvd",
        "colab": {
          "base_uri": "https://localhost:8080/"
        },
        "outputId": "ce98c284-d13a-4948-da32-d24861e64222"
      },
      "execution_count": 11,
      "outputs": [
        {
          "output_type": "stream",
          "name": "stdout",
          "text": [
            "Number of paragraphs in https://trome.com/actualidad/agustin-lozano-fiscalia-deja-sin-efecto-acusacion-por-organizacion-criminal-contra-presidente-de-la-federacion-peruana-de-futbol-noticia: 10\n",
            "Number of paragraphs in https://trome.com/actualidad/politica/operacion-de-dina-boluarte-expremier-confirma-que-dina-boluarte-se-sometio-a-una-cirugia-plastica-efectivamente-paso-por-un-procedimiento-quirurgico-video-noticia/?ref=tr: 13\n"
          ]
        }
      ]
    },
    {
      "cell_type": "markdown",
      "source": [
        "Si no tenemos ese dato..."
      ],
      "metadata": {
        "id": "ulhVbsMTKV2u"
      }
    },
    {
      "cell_type": "markdown",
      "source": [
        "Esto resume todo"
      ],
      "metadata": {
        "id": "9bDNSgJEqATB"
      }
    },
    {
      "cell_type": "code",
      "source": [
        "# prompt: Imprime solo el título de esa página web\n",
        "\n",
        "from selenium import webdriver\n",
        "from selenium.webdriver.chrome.options import Options\n",
        "import time\n",
        "\n",
        "chrome_options = Options()\n",
        "chrome_options.add_argument('--headless')\n",
        "chrome_options.add_argument('--no-sandbox')\n",
        "\n",
        "driver = webdriver.Chrome(options=chrome_options)\n",
        "driver.get(\"https://trome.com/actualidad/agustin-lozano-fiscalia-deja-sin-efecto-acusacion-por-organizacion-criminal-contra-presidente-de-la-federacion-peruana-de-futbol-noticia\")\n",
        "time.sleep(5)  # Allow time for the page to load\n",
        "\n",
        "try:\n",
        "    title_element = driver.find_element(\"xpath\", '//h1') # Assuming the title is in an h1 tag\n",
        "    print(title_element.text)\n",
        "except Exception as e:\n",
        "    print(f\"Error finding title: {e}\")\n",
        "finally:\n",
        "    driver.quit()"
      ],
      "metadata": {
        "colab": {
          "base_uri": "https://localhost:8080/"
        },
        "id": "_8RZPJR6qQE8",
        "outputId": "a0a2e5a9-9ee3-4dd6-8792-48b52a0667bc"
      },
      "execution_count": 13,
      "outputs": [
        {
          "output_type": "stream",
          "name": "stdout",
          "text": [
            "Fiscalía deja sin efecto acusación por organización criminal contra Agustín Lozano por caso ‘Los Galácticos’\n"
          ]
        }
      ]
    },
    {
      "cell_type": "code",
      "source": [
        "chrome_options = webdriver.ChromeOptions()\n",
        "chrome_options.add_argument('--headless')\n",
        "chrome_options.add_argument('--no-sandbox')\n",
        "chrome_driver_path = '/content/chromedriver'\n",
        "chrome_service = webdriver.ChromeService(chrome_driver_path)\n",
        "driver = webdriver.Chrome(options=chrome_options)\n",
        "\n",
        "driver.get(\"https://trome.com/actualidad/agustin-lozano-fiscalia-deja-sin-efecto-acusacion-por-organizacion-criminal-contra-presidente-de-la-federacion-peruana-de-futbol-noticia\")\n",
        "\n",
        "texto_completo = \"\"  # Variable para almacenar todo el texto\n",
        "\n",
        "i = 1\n",
        "while True:\n",
        "    try:\n",
        "        time.sleep(2)\n",
        "        variable = f'//*[@id=\"contenedor\"]/div/section/p[{i}]'\n",
        "        parrafo = driver.find_element(\"xpath\", variable)\n",
        "        texto_completo += parrafo.text + \" \"  # Concatenamos el texto\n",
        "        i += 1\n",
        "    except:\n",
        "        # Si ocurre un error (no se encuentra el elemento), termina el bucle\n",
        "        break"
      ],
      "metadata": {
        "id": "5QGAp10VDLtq"
      },
      "execution_count": 12,
      "outputs": []
    },
    {
      "cell_type": "markdown",
      "source": [
        "Verifiquemos"
      ],
      "metadata": {
        "id": "3drey0tzKacY"
      }
    },
    {
      "cell_type": "code",
      "source": [
        "texto_completo"
      ],
      "metadata": {
        "id": "xnN51KnyDXLc",
        "colab": {
          "base_uri": "https://localhost:8080/",
          "height": 156
        },
        "outputId": "f1040fab-452c-4be1-9ac1-9d88e6172a97"
      },
      "execution_count": 14,
      "outputs": [
        {
          "output_type": "execute_result",
          "data": {
            "text/plain": [
              "'El Ministerio Público no continuará con la acusación contra el presidente de la Federación Peruana de Fútbol, Agustín Lozano, por el presunto delito de organización criminal, al igual que contra otros directivos de la FPF, en el marco del caso denominado ‘Los Galácticos’. El estudio de abogados que representa a Lozano informó que tras esta decisión del Ministerio Público queda sin efecto la imputación por dicho delito contra los directivos. De esta manera quedó cancelada la audiencia programada para el martes 10 de diciembre; sin embargo, trascendió que el mandamás de la FPF aún continuará investigado por el presunto delito de lavado de activos. Recordemos que Agustín Lozano y un grupo de directivos fueron detenidos la madrugada del 7 de noviembre. El día 19, las autoridades judiciales decidieron dejarlo en libertad y este 3 de diciembre la Fiscalía decidió no continuar con la investigación por el presunto delito de lavado de activos. Nolberto Solano no ha permanecido indiferente en medio de la crisis que vive la Selección Peruana y también el escándalo legal tras la intervención a la FPF de parte de la Fiscalía. El asistente de Ricardo Gareca, responsabilizó a Agustín Lozano por la debacle deportiva de la Selección Peruana por dejarla ‘sin cabeza’. “Pensamos que fácil terminaríamos dentro del pelotón que clasificaba. Agustín Lozano pensó que, de repente, Gareca ya no era necesario, y bueno, tomaron las decisiones que tomaron. Nos olvidamos que los demás iban a reaccionar y nos han pegado una ‘cachetada’”, dijo categórico. MÁS INFORMACIÓN:    '"
            ],
            "application/vnd.google.colaboratory.intrinsic+json": {
              "type": "string"
            }
          },
          "metadata": {},
          "execution_count": 14
        }
      ]
    },
    {
      "cell_type": "markdown",
      "source": [
        "Guardamos en un archivo de texto"
      ],
      "metadata": {
        "id": "XdWh0cpGKb99"
      }
    },
    {
      "cell_type": "code",
      "source": [
        "# Definimos el nombre del archivo donde se guardará el texto\n",
        "nombre_archivo = \"parrafos.txt\"\n",
        "\n",
        "# Abrimos el archivo en modo escritura ('w'), lo que sobrescribe el archivo si ya existe\n",
        "with open(nombre_archivo, \"w\", encoding=\"utf-8\") as archivo:\n",
        "    archivo.write(texto_completo)\n",
        "\n",
        "print(f\"El texto se ha guardado en {nombre_archivo}\")"
      ],
      "metadata": {
        "id": "1K0b4Ya9EKak",
        "colab": {
          "base_uri": "https://localhost:8080/"
        },
        "outputId": "ae4a5dff-8bf8-477f-9432-ad8b8b9354c1"
      },
      "execution_count": 15,
      "outputs": [
        {
          "output_type": "stream",
          "name": "stdout",
          "text": [
            "El texto se ha guardado en parrafos.txt\n"
          ]
        }
      ]
    },
    {
      "cell_type": "markdown",
      "source": [
        "# Extra: Análisis de sentimientos"
      ],
      "metadata": {
        "id": "KSsVJSE5Ezhd"
      }
    },
    {
      "cell_type": "code",
      "source": [
        "import pandas as pd\n",
        "from textblob import TextBlob\n",
        "import seaborn as sns"
      ],
      "metadata": {
        "id": "eFRa6PLMFVrQ"
      },
      "execution_count": 16,
      "outputs": []
    },
    {
      "cell_type": "code",
      "source": [
        "subjetividad = TextBlob(texto_completo).sentiment.subjectivity\n",
        "subjetividad"
      ],
      "metadata": {
        "id": "M6MveqCeG_L8",
        "colab": {
          "base_uri": "https://localhost:8080/"
        },
        "outputId": "871af0c6-48e5-4999-d952-47a9a9e3e6ce"
      },
      "execution_count": 17,
      "outputs": [
        {
          "output_type": "execute_result",
          "data": {
            "text/plain": [
              "0.375"
            ]
          },
          "metadata": {},
          "execution_count": 17
        }
      ]
    },
    {
      "cell_type": "markdown",
      "source": [
        "En subjetividad, está más cerca al cero que al uno, así que el comentario tiende más hacia la objetividad."
      ],
      "metadata": {
        "id": "trYNCGbmH1ZU"
      }
    },
    {
      "cell_type": "code",
      "source": [
        "polaridad = TextBlob(texto_completo).sentiment.polarity\n",
        "polaridad"
      ],
      "metadata": {
        "id": "oZok-5uVG0PP",
        "colab": {
          "base_uri": "https://localhost:8080/"
        },
        "outputId": "5bba8c27-0557-4a48-9469-a07f52abc7fc"
      },
      "execution_count": 18,
      "outputs": [
        {
          "output_type": "execute_result",
          "data": {
            "text/plain": [
              "-0.1"
            ]
          },
          "metadata": {},
          "execution_count": 18
        }
      ]
    },
    {
      "cell_type": "markdown",
      "source": [
        "Hay baja polaridad en el texto, con tendencia hacia lo negativo."
      ],
      "metadata": {
        "id": "UeB-J6MeIMir"
      }
    },
    {
      "cell_type": "code",
      "source": [
        "#sns.displot(polaridad,color='red')\n",
        "#sns.displot(subjetividad,color='green')\n",
        "# Para trabajar esto pero con tablas https://github.com/inefable12/DUPD_2024/blob/main/Sesion6.ipynb"
      ],
      "metadata": {
        "id": "T1tf3UzvHD-T"
      },
      "execution_count": 20,
      "outputs": []
    }
  ]
}