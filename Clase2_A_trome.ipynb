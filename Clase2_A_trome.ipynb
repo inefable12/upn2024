{
  "nbformat": 4,
  "nbformat_minor": 0,
  "metadata": {
    "colab": {
      "provenance": [],
      "authorship_tag": "ABX9TyN9YJ8XcWdBhR1iEU8HUw7b",
      "include_colab_link": true
    },
    "kernelspec": {
      "name": "python3",
      "display_name": "Python 3"
    },
    "language_info": {
      "name": "python"
    }
  },
  "cells": [
    {
      "cell_type": "markdown",
      "metadata": {
        "id": "view-in-github",
        "colab_type": "text"
      },
      "source": [
        "<a href=\"https://colab.research.google.com/github/inefable12/upn2024/blob/main/Clase2_A_trome.ipynb\" target=\"_parent\"><img src=\"https://colab.research.google.com/assets/colab-badge.svg\" alt=\"Open In Colab\"/></a>"
      ]
    },
    {
      "cell_type": "markdown",
      "source": [
        "<img src=\"https://media.giphy.com/avatars/UPN_edu/BohC4JwcStCB.gif\" width=\"100\" alt=\"nlp logo\"  />\n",
        "\n",
        "___\n",
        "\n",
        "$$\\large\\textbf{Codificación para el análisis de datos para no programadores}$$\n",
        "$$\\textit{Parte Práctica A: Web scrapping al diario Trome}$$\n",
        "\n",
        "_Docente: Jesus Alvarado Huayhuaz_\n",
        "\n",
        "_13 de diciembre de 2024_\n",
        "___\n"
      ],
      "metadata": {
        "id": "f1f6Iu6G8ztX"
      }
    },
    {
      "cell_type": "markdown",
      "source": [
        "A modo de ejercicio, vamos a extraer parte del texto del enlace https://trome.com/actualidad/agustin-lozano-fiscalia-deja-sin-efecto-acusacion-por-organizacion-criminal-contra-presidente-de-la-federacion-peruana-de-futbol-noticia/"
      ],
      "metadata": {
        "id": "GjQIq7RABXSC"
      }
    },
    {
      "cell_type": "markdown",
      "source": [
        "# 1. Requerimientos"
      ],
      "metadata": {
        "id": "8MFt-VFI7z5G"
      }
    },
    {
      "cell_type": "markdown",
      "source": [
        "Recuerda que usando \"#@title mititulo\" y luego en Formulario se seleccionó \"Ocultar código\" para facilitar el uso de este colab"
      ],
      "metadata": {
        "id": "QXPcAX6iP-jj"
      }
    },
    {
      "cell_type": "code",
      "source": [
        "#@title Instalaciones\n",
        "\n",
        "# Install Google-Chrome\n",
        "%%capture\n",
        "!wget https://dl.google.com/linux/direct/google-chrome-stable_current_amd64.deb\n",
        "!dpkg -i google-chrome-stable_current_amd64.deb\n",
        "!apt-get install -f\n",
        "!rm -rf google-chrome-stable_current_amd64.deb\n",
        "# Install dependencies for install Google-Chrome\n",
        "!sudo apt-get update\n",
        "!sudo apt-get install -y libu2f-udev\n",
        "!pip install selenium"
      ],
      "metadata": {
        "id": "LmnVTqpUPtm0",
        "cellView": "form"
      },
      "execution_count": null,
      "outputs": []
    },
    {
      "cell_type": "code",
      "source": [
        "#@title Importar librerías\n",
        "\n",
        "import pandas as pd\n",
        "import numpy as np\n",
        "from selenium import webdriver\n",
        "import time\n",
        "from selenium.webdriver.chrome.options import Options\n",
        "from selenium.webdriver.chrome.service import Service"
      ],
      "metadata": {
        "id": "maKye38-QaQL",
        "cellView": "form"
      },
      "execution_count": null,
      "outputs": []
    },
    {
      "cell_type": "markdown",
      "source": [
        "# 2. Inicio"
      ],
      "metadata": {
        "id": "t6j24VM27SuK"
      }
    },
    {
      "cell_type": "code",
      "source": [
        "#@title Generamos el driver\n",
        "\n",
        "chrome_options = webdriver.ChromeOptions()\n",
        "chrome_options.add_argument('--headless')\n",
        "chrome_options.add_argument('--no-sandbox')\n",
        "chrome_driver_path = '/content/chromedriver'\n",
        "chrome_service = webdriver.ChromeService(chrome_driver_path)\n",
        "driver = webdriver.Chrome(options=chrome_options)"
      ],
      "metadata": {
        "id": "MZxYYwhVPquN"
      },
      "execution_count": null,
      "outputs": []
    },
    {
      "cell_type": "markdown",
      "source": [
        "Nos dirigimos a la página web, identificamos el campo requerido y luego seleccionamos con clic derecho \"Copiar como XPath\""
      ],
      "metadata": {
        "id": "jn9-ggsCQdpE"
      }
    },
    {
      "cell_type": "markdown",
      "source": [
        "//*[@id=\"contenedor\"]/div/section/p[4]"
      ],
      "metadata": {
        "id": "B_s3DzEkRukR"
      }
    },
    {
      "cell_type": "code",
      "source": [
        "driver.get(\"https://trome.com/actualidad/agustin-lozano-fiscalia-deja-sin-efecto-acusacion-por-organizacion-criminal-contra-presidente-de-la-federacion-peruana-de-futbol-noticia\")\n",
        "time.sleep(5)\n",
        "campo_requerido = driver.find_element(\"xpath\",'//*[@id=\"contenedor\"]/div/section/p[4]')\n",
        "print('Campo seleccionado: '+ campo_requerido.text)"
      ],
      "metadata": {
        "id": "5uXy-LOXP5WW"
      },
      "execution_count": null,
      "outputs": []
    },
    {
      "cell_type": "markdown",
      "source": [
        "Veamos otro campo seleccionado"
      ],
      "metadata": {
        "id": "D11Dp2WB8y9W"
      }
    },
    {
      "cell_type": "code",
      "source": [
        "driver.get(\"https://trome.com/actualidad/agustin-lozano-fiscalia-deja-sin-efecto-acusacion-por-organizacion-criminal-contra-presidente-de-la-federacion-peruana-de-futbol-noticia\")\n",
        "time.sleep(5)\n",
        "campo_requerido = driver.find_element(\"xpath\",'//*[@id=\"contenedor\"]/div/section/p[6]')\n",
        "print('Campo seleccionado: '+ campo_requerido.text)"
      ],
      "metadata": {
        "id": "ixooafc0J_xu"
      },
      "execution_count": null,
      "outputs": []
    },
    {
      "cell_type": "markdown",
      "source": [
        "¿Identificas la numeración?"
      ],
      "metadata": {
        "id": "EPA0JIcBOnk1"
      }
    },
    {
      "cell_type": "code",
      "source": [
        "driver.get(\"https://trome.com/actualidad/agustin-lozano-fiscalia-deja-sin-efecto-acusacion-por-organizacion-criminal-contra-presidente-de-la-federacion-peruana-de-futbol-noticia\")\n",
        "\n",
        "for i in range(1, 11):\n",
        "    time.sleep(5)\n",
        "    variable = f'//*[@id=\"contenedor\"]/div/section/p[{i}]'\n",
        "    parrafo = driver.find_element(\"xpath\", variable)\n",
        "    print('Párrafo: ' + parrafo.text)"
      ],
      "metadata": {
        "id": "WBcj7lgdRx-n"
      },
      "execution_count": null,
      "outputs": []
    },
    {
      "cell_type": "code",
      "source": [
        "driver.get(\"https://trome.com/actualidad/politica/operacion-de-dina-boluarte-expremier-confirma-que-dina-boluarte-se-sometio-a-una-cirugia-plastica-efectivamente-paso-por-un-procedimiento-quirurgico-video-noticia/?ref=tr\")\n",
        "\n",
        "for i in range(1, 14):\n",
        "    time.sleep(5)\n",
        "    variable = f'//*[@id=\"contenedor\"]/div/section/p[{i}]'\n",
        "    parrafo = driver.find_element(\"xpath\", variable)\n",
        "    print('Párrafo: ' + parrafo.text)"
      ],
      "metadata": {
        "id": "ePVQ75Xc-yiv"
      },
      "execution_count": null,
      "outputs": []
    },
    {
      "cell_type": "markdown",
      "source": [
        "¿Cuál es el número de párrafos?"
      ],
      "metadata": {
        "id": "rCuS53h2BM2n"
      }
    },
    {
      "cell_type": "code",
      "source": [
        "import pandas as pd\n",
        "import numpy as np\n",
        "from selenium import webdriver\n",
        "import time\n",
        "from selenium.webdriver.chrome.options import Options\n",
        "from selenium.webdriver.chrome.service import Service\n",
        "from selenium.common.exceptions import NoSuchElementException\n",
        "\n",
        "def count_paragraphs(url):\n",
        "    chrome_options = webdriver.ChromeOptions()\n",
        "    chrome_options.add_argument('--headless')\n",
        "    chrome_options.add_argument('--no-sandbox')\n",
        "    chrome_driver_path = '/content/chromedriver'\n",
        "    chrome_service = webdriver.ChromeService(chrome_driver_path)\n",
        "    #driver = webdriver.Chrome(options=chrome_options, service=chrome_service)\n",
        "    driver = webdriver.Chrome(options=chrome_options)\n",
        "\n",
        "    driver.get(url)\n",
        "    time.sleep(5)\n",
        "\n",
        "    i = 1\n",
        "    max_i = 0\n",
        "    while True:\n",
        "        try:\n",
        "            variable = f'//*[@id=\"contenedor\"]/div/section/p[{i}]'\n",
        "            parrafo = driver.find_element(\"xpath\", variable)\n",
        "            max_i = i\n",
        "            i +=1\n",
        "        except NoSuchElementException:\n",
        "            break\n",
        "\n",
        "    driver.quit()\n",
        "    return max_i\n",
        "\n",
        "# Example usage\n",
        "url1 = \"https://trome.com/actualidad/agustin-lozano-fiscalia-deja-sin-efecto-acusacion-por-organizacion-criminal-contra-presidente-de-la-federacion-peruana-de-futbol-noticia\"\n",
        "paragraph_count1 = count_paragraphs(url1)\n",
        "print(f\"Number of paragraphs in {url1}: {paragraph_count1}\")\n",
        "\n",
        "url2 = \"https://trome.com/actualidad/politica/operacion-de-dina-boluarte-expremier-confirma-que-dina-boluarte-se-sometio-a-una-cirugia-plastica-efectivamente-paso-por-un-procedimiento-quirurgico-video-noticia/?ref=tr\"\n",
        "paragraph_count2 = count_paragraphs(url2)\n",
        "print(f\"Number of paragraphs in {url2}: {paragraph_count2}\")"
      ],
      "metadata": {
        "id": "6U58pUG8AGvd"
      },
      "execution_count": null,
      "outputs": []
    },
    {
      "cell_type": "markdown",
      "source": [
        "Si no tenemos ese dato..."
      ],
      "metadata": {
        "id": "ulhVbsMTKV2u"
      }
    },
    {
      "cell_type": "code",
      "source": [
        "chrome_options = webdriver.ChromeOptions()\n",
        "chrome_options.add_argument('--headless')\n",
        "chrome_options.add_argument('--no-sandbox')\n",
        "chrome_driver_path = '/content/chromedriver'\n",
        "chrome_service = webdriver.ChromeService(chrome_driver_path)\n",
        "driver = webdriver.Chrome(options=chrome_options)\n",
        "\n",
        "driver.get(\"https://trome.com/actualidad/agustin-lozano-fiscalia-deja-sin-efecto-acusacion-por-organizacion-criminal-contra-presidente-de-la-federacion-peruana-de-futbol-noticia\")\n",
        "\n",
        "texto_completo = \"\"  # Variable para almacenar todo el texto\n",
        "\n",
        "i = 1\n",
        "while True:\n",
        "    try:\n",
        "        time.sleep(2)\n",
        "        variable = f'//*[@id=\"contenedor\"]/div/section/p[{i}]'\n",
        "        parrafo = driver.find_element(\"xpath\", variable)\n",
        "        texto_completo += parrafo.text + \" \"  # Concatenamos el texto\n",
        "        i += 1\n",
        "    except:\n",
        "        # Si ocurre un error (no se encuentra el elemento), termina el bucle\n",
        "        break"
      ],
      "metadata": {
        "id": "5QGAp10VDLtq"
      },
      "execution_count": null,
      "outputs": []
    },
    {
      "cell_type": "markdown",
      "source": [
        "Verifiquemos"
      ],
      "metadata": {
        "id": "3drey0tzKacY"
      }
    },
    {
      "cell_type": "code",
      "source": [
        "texto_completo"
      ],
      "metadata": {
        "id": "xnN51KnyDXLc"
      },
      "execution_count": null,
      "outputs": []
    },
    {
      "cell_type": "markdown",
      "source": [
        "Guardamos en un archivo de texto"
      ],
      "metadata": {
        "id": "XdWh0cpGKb99"
      }
    },
    {
      "cell_type": "code",
      "source": [
        "# Definimos el nombre del archivo donde se guardará el texto\n",
        "nombre_archivo = \"parrafos.txt\"\n",
        "\n",
        "# Abrimos el archivo en modo escritura ('w'), lo que sobrescribe el archivo si ya existe\n",
        "with open(nombre_archivo, \"w\", encoding=\"utf-8\") as archivo:\n",
        "    archivo.write(texto_completo)\n",
        "\n",
        "print(f\"El texto se ha guardado en {nombre_archivo}\")"
      ],
      "metadata": {
        "id": "1K0b4Ya9EKak"
      },
      "execution_count": null,
      "outputs": []
    },
    {
      "cell_type": "markdown",
      "source": [
        "# Extra: Análisis de sentimientos"
      ],
      "metadata": {
        "id": "KSsVJSE5Ezhd"
      }
    },
    {
      "cell_type": "code",
      "source": [
        "import pandas as pd\n",
        "from textblob import TextBlob\n",
        "import seaborn as sns"
      ],
      "metadata": {
        "id": "eFRa6PLMFVrQ"
      },
      "execution_count": null,
      "outputs": []
    },
    {
      "cell_type": "code",
      "source": [
        "subjetividad = TextBlob(texto_completo).sentiment.subjectivity\n",
        "subjetividad"
      ],
      "metadata": {
        "id": "M6MveqCeG_L8"
      },
      "execution_count": null,
      "outputs": []
    },
    {
      "cell_type": "markdown",
      "source": [
        "En subjetividad, está más cerca al cero que al uno, así que el comentario tiende más hacia la objetividad."
      ],
      "metadata": {
        "id": "trYNCGbmH1ZU"
      }
    },
    {
      "cell_type": "code",
      "source": [
        "polaridad = TextBlob(texto_completo).sentiment.polarity\n",
        "polaridad"
      ],
      "metadata": {
        "id": "oZok-5uVG0PP"
      },
      "execution_count": null,
      "outputs": []
    },
    {
      "cell_type": "markdown",
      "source": [
        "Hay baja polaridad en el texto, con tendencia hacia lo negativo."
      ],
      "metadata": {
        "id": "UeB-J6MeIMir"
      }
    },
    {
      "cell_type": "code",
      "source": [
        "#sns.displot(polaridad,color='red')\n",
        "#sns.displot(subjetividad,color='green')\n",
        "# Para trabajar esto pero con tablas https://github.com/inefable12/DUPD_2024/blob/main/Sesion6.ipynb"
      ],
      "metadata": {
        "id": "T1tf3UzvHD-T"
      },
      "execution_count": null,
      "outputs": []
    }
  ]
}