{
  "nbformat": 4,
  "nbformat_minor": 0,
  "metadata": {
    "colab": {
      "provenance": [],
      "authorship_tag": "ABX9TyPTFBjyRdPMtn5L2IiFqnPW",
      "include_colab_link": true
    },
    "kernelspec": {
      "name": "python3",
      "display_name": "Python 3"
    },
    "language_info": {
      "name": "python"
    }
  },
  "cells": [
    {
      "cell_type": "markdown",
      "metadata": {
        "id": "view-in-github",
        "colab_type": "text"
      },
      "source": [
        "<a href=\"https://colab.research.google.com/github/inefable12/upn2024/blob/main/Clase1_UPN2024.ipynb\" target=\"_parent\"><img src=\"https://colab.research.google.com/assets/colab-badge.svg\" alt=\"Open In Colab\"/></a>"
      ]
    },
    {
      "cell_type": "markdown",
      "source": [
        "<img src=\"https://media.giphy.com/avatars/UPN_edu/BohC4JwcStCB.gif\" width=\"100\" alt=\"nlp ogo\"  />\n",
        "\n",
        "___\n",
        "\n",
        "$$\\large\\textbf{Codificación para el análisis de datos para no programadores}$$\n",
        "$$\\textit{Clase 1}$$\n",
        "\n",
        "_Docente: Jesus Alvarado Huayhuaz_\n",
        "\n",
        "_7 de diciembre de 2024_\n",
        "___\n"
      ],
      "metadata": {
        "id": "f1f6Iu6G8ztX"
      }
    },
    {
      "cell_type": "markdown",
      "source": [
        "Iniciaremos con un breve test de entrada:\n",
        "\n",
        "https://forms.gle/DNykU443PNHMATME7"
      ],
      "metadata": {
        "id": "NSr8eko--REH"
      }
    },
    {
      "cell_type": "markdown",
      "source": [
        "# 1. Introducción a Python"
      ],
      "metadata": {
        "id": "-ITaac7E_1f4"
      }
    },
    {
      "cell_type": "markdown",
      "source": [
        "Operaciones aritméticas"
      ],
      "metadata": {
        "id": "YCmoQ9Q5mk19"
      }
    },
    {
      "cell_type": "code",
      "execution_count": null,
      "metadata": {
        "colab": {
          "base_uri": "https://localhost:8080/"
        },
        "id": "fiVYGOFkg2Yf",
        "outputId": "e699cb40-d82d-473f-b005-eb537d670a83"
      },
      "outputs": [
        {
          "output_type": "stream",
          "name": "stdout",
          "text": [
            "/content\n"
          ]
        }
      ],
      "source": [
        "# ¿En qué carpeta me encuentro?\n",
        "!pwd"
      ]
    },
    {
      "cell_type": "code",
      "source": [
        "# ¿Qué archivos hay en esta carpeta?\n",
        "# listar\n",
        "\n",
        "!ls"
      ],
      "metadata": {
        "colab": {
          "base_uri": "https://localhost:8080/"
        },
        "id": "FWS1agy4kT2h",
        "outputId": "b2d62bfa-e89e-4b7b-8a74-6538439f6e6c"
      },
      "execution_count": null,
      "outputs": [
        {
          "output_type": "stream",
          "name": "stdout",
          "text": [
            "sample_data\n"
          ]
        }
      ]
    },
    {
      "cell_type": "code",
      "source": [
        "# suma\n",
        "4+3"
      ],
      "metadata": {
        "colab": {
          "base_uri": "https://localhost:8080/"
        },
        "id": "aycK4nS6kcjX",
        "outputId": "40b97bbf-6620-4e1e-bae7-25535e284c05"
      },
      "execution_count": null,
      "outputs": [
        {
          "output_type": "execute_result",
          "data": {
            "text/plain": [
              "7"
            ]
          },
          "metadata": {},
          "execution_count": 9
        }
      ]
    },
    {
      "cell_type": "code",
      "source": [
        "# resta\n",
        "9-1"
      ],
      "metadata": {
        "colab": {
          "base_uri": "https://localhost:8080/"
        },
        "id": "BpvipUhKlEC5",
        "outputId": "a61426c2-5cf3-4d23-cc72-309f714ee96f"
      },
      "execution_count": null,
      "outputs": [
        {
          "output_type": "execute_result",
          "data": {
            "text/plain": [
              "8"
            ]
          },
          "metadata": {},
          "execution_count": 10
        }
      ]
    },
    {
      "cell_type": "code",
      "source": [
        "# multiplicación\n",
        "5*5"
      ],
      "metadata": {
        "colab": {
          "base_uri": "https://localhost:8080/"
        },
        "id": "jSrYH4JVlF39",
        "outputId": "20398687-2d5d-43f0-8593-ff3fa1a10f57"
      },
      "execution_count": null,
      "outputs": [
        {
          "output_type": "execute_result",
          "data": {
            "text/plain": [
              "25"
            ]
          },
          "metadata": {},
          "execution_count": 11
        }
      ]
    },
    {
      "cell_type": "code",
      "source": [
        "# división\n",
        "30/2"
      ],
      "metadata": {
        "colab": {
          "base_uri": "https://localhost:8080/"
        },
        "id": "jg7iO9vylJWN",
        "outputId": "0f1d7792-aa2f-40c6-bb69-cc34f92fade7"
      },
      "execution_count": null,
      "outputs": [
        {
          "output_type": "execute_result",
          "data": {
            "text/plain": [
              "15.0"
            ]
          },
          "metadata": {},
          "execution_count": 12
        }
      ]
    },
    {
      "cell_type": "code",
      "source": [
        "# tipo de dato de la multiplicación\n",
        "type(5*5)"
      ],
      "metadata": {
        "colab": {
          "base_uri": "https://localhost:8080/"
        },
        "id": "vpppCnVPlNAO",
        "outputId": "108cfae2-08e3-4340-b2f6-177503ed9710"
      },
      "execution_count": null,
      "outputs": [
        {
          "output_type": "execute_result",
          "data": {
            "text/plain": [
              "int"
            ]
          },
          "metadata": {},
          "execution_count": 13
        }
      ]
    },
    {
      "cell_type": "code",
      "source": [
        "# tipo de dato de la división\n",
        "type(30/2)"
      ],
      "metadata": {
        "colab": {
          "base_uri": "https://localhost:8080/"
        },
        "id": "kASR2n9flgFy",
        "outputId": "831b2432-4854-420f-8cb4-760989379e81"
      },
      "execution_count": null,
      "outputs": [
        {
          "output_type": "execute_result",
          "data": {
            "text/plain": [
              "float"
            ]
          },
          "metadata": {},
          "execution_count": 18
        }
      ]
    },
    {
      "cell_type": "code",
      "source": [
        "# tipo de dato de la división inexacta\n",
        "20/3"
      ],
      "metadata": {
        "colab": {
          "base_uri": "https://localhost:8080/"
        },
        "id": "Y_bU2SNsliiz",
        "outputId": "501d27a5-68ac-4f83-f344-5336e461c09d"
      },
      "execution_count": null,
      "outputs": [
        {
          "output_type": "execute_result",
          "data": {
            "text/plain": [
              "6.666666666666667"
            ]
          },
          "metadata": {},
          "execution_count": 15
        }
      ]
    },
    {
      "cell_type": "code",
      "source": [
        "# tipo de dato residuo\n",
        "20%3"
      ],
      "metadata": {
        "colab": {
          "base_uri": "https://localhost:8080/"
        },
        "id": "vt-ZiUQ3lre8",
        "outputId": "76e149ce-943e-46e8-abba-a83473419130"
      },
      "execution_count": null,
      "outputs": [
        {
          "output_type": "execute_result",
          "data": {
            "text/plain": [
              "2"
            ]
          },
          "metadata": {},
          "execution_count": 16
        }
      ]
    },
    {
      "cell_type": "code",
      "source": [
        "# tipo de dato  cociente\n",
        "20//3"
      ],
      "metadata": {
        "colab": {
          "base_uri": "https://localhost:8080/"
        },
        "id": "451N3O7oluH5",
        "outputId": "cd0373f2-fc9c-4873-f10d-3b4f94487887"
      },
      "execution_count": null,
      "outputs": [
        {
          "output_type": "execute_result",
          "data": {
            "text/plain": [
              "6"
            ]
          },
          "metadata": {},
          "execution_count": 17
        }
      ]
    },
    {
      "cell_type": "code",
      "source": [
        "# exponente\n",
        "2**3"
      ],
      "metadata": {
        "colab": {
          "base_uri": "https://localhost:8080/"
        },
        "id": "px27pJ2DmzDX",
        "outputId": "387174db-ca76-495d-b49f-b4a7f7c6ef63"
      },
      "execution_count": 1,
      "outputs": [
        {
          "output_type": "execute_result",
          "data": {
            "text/plain": [
              "8"
            ]
          },
          "metadata": {},
          "execution_count": 1
        }
      ]
    },
    {
      "cell_type": "code",
      "source": [
        "2**0.5"
      ],
      "metadata": {
        "colab": {
          "base_uri": "https://localhost:8080/"
        },
        "id": "AVMraULhna78",
        "outputId": "e625d4ba-94d0-4766-9e2b-6316f8adf3fc"
      },
      "execution_count": 2,
      "outputs": [
        {
          "output_type": "execute_result",
          "data": {
            "text/plain": [
              "1.4142135623730951"
            ]
          },
          "metadata": {},
          "execution_count": 2
        }
      ]
    },
    {
      "cell_type": "code",
      "source": [
        "import numpy as np"
      ],
      "metadata": {
        "id": "wVOUadRanlv2"
      },
      "execution_count": 6,
      "outputs": []
    },
    {
      "cell_type": "code",
      "source": [
        "np.sqrt(2)"
      ],
      "metadata": {
        "colab": {
          "base_uri": "https://localhost:8080/"
        },
        "id": "I19pm81Jne_S",
        "outputId": "99664f19-f47f-4bfd-c7be-7c218300e8b9"
      },
      "execution_count": 7,
      "outputs": [
        {
          "output_type": "execute_result",
          "data": {
            "text/plain": [
              "1.4142135623730951"
            ]
          },
          "metadata": {},
          "execution_count": 7
        }
      ]
    },
    {
      "cell_type": "code",
      "source": [
        "for i in range(3):\n",
        "  print(i)"
      ],
      "metadata": {
        "colab": {
          "base_uri": "https://localhost:8080/"
        },
        "id": "oh2exhrLpSzf",
        "outputId": "46328433-91e6-406e-9ff8-190aee54ca38"
      },
      "execution_count": 8,
      "outputs": [
        {
          "output_type": "stream",
          "name": "stdout",
          "text": [
            "0\n",
            "1\n",
            "2\n"
          ]
        }
      ]
    },
    {
      "cell_type": "code",
      "source": [
        "for i in range(3):\n",
        "  print(i*10)"
      ],
      "metadata": {
        "colab": {
          "base_uri": "https://localhost:8080/"
        },
        "id": "ZMYI8_c0pSoo",
        "outputId": "6ef30691-cee3-46bf-cfaf-99ae2503e03b"
      },
      "execution_count": 9,
      "outputs": [
        {
          "output_type": "stream",
          "name": "stdout",
          "text": [
            "0\n",
            "10\n",
            "20\n"
          ]
        }
      ]
    },
    {
      "cell_type": "code",
      "source": [
        "[i*10 for i in range(3)]"
      ],
      "metadata": {
        "colab": {
          "base_uri": "https://localhost:8080/"
        },
        "id": "WoQSQ5qNqopk",
        "outputId": "62302d59-a83a-4317-eb2e-7a6e5d101107"
      },
      "execution_count": 10,
      "outputs": [
        {
          "output_type": "execute_result",
          "data": {
            "text/plain": [
              "[0, 10, 20]"
            ]
          },
          "metadata": {},
          "execution_count": 10
        }
      ]
    },
    {
      "cell_type": "code",
      "source": [
        "type([i*10 for i in range(3)])"
      ],
      "metadata": {
        "colab": {
          "base_uri": "https://localhost:8080/"
        },
        "id": "8wlONmeYrCb1",
        "outputId": "5f815c86-b295-4383-c87d-6ea46c59673f"
      },
      "execution_count": 11,
      "outputs": [
        {
          "output_type": "execute_result",
          "data": {
            "text/plain": [
              "list"
            ]
          },
          "metadata": {},
          "execution_count": 11
        }
      ]
    },
    {
      "cell_type": "code",
      "source": [
        "#@title Nube de palabras\n",
        "from wordcloud import WordCloud\n",
        "import matplotlib.pyplot as plt\n",
        "\n",
        "# Lista de palabras relacionadas con Python para principiantes\n",
        "text = \"\"\"\n",
        "La,Virgen,se,está,peinando,Entre,cortina,y,cortina,Sus,cabellos,son,de,oro,Y,el,peine,de,plata,fina,Pero,mira,cómo,beben,los,peces,en,el,río,Pero,mira,cómo,beben,por,ver,al,Dios,nacido,Beben,y,beben,y,vuelven,a,beber,Los,peces,en,el,río,por,ver,a,Dios,nacer,La,Virgen,está,lavando,Y,tendiendo,en,el,romero,Los,angelitos,cantando,Y,el,romero,florecido,Pero,mira,cómo,beben,los,peces,en,el,río,Pero,mira,cómo,beben,por,ver,al,Dios,nacido,Beben,y,beben,y,vuelven,a,beber,Los,peces,en,el,río,por,ver,a,Dios,nacer,La,Virgen,está,lavando,Con,muy,poquito,jabón,Se,le,picaron,las,manos,Manos,de,mi,corazón,Pero,mira,cómo,beben,los,peces,en,el,río,Pero,mira,cómo,beben,por,ver,al,Dios,nacido,Beben,y,beben,y,vuelven,a,beber,Los,peces,en,el,río,por,ver,a,Dios,nacer\n",
        "\"\"\"\n",
        "\n",
        "#\"\"\"\n",
        "#Campana,sobre,campana,Y,sobre,campana,una,Asómate,a,la,ventana,Verás,el,niño,en,la,cuna,Belén,,campanas,de,Belén,Que,los,ángeles,tocan,¿Qué,nuevas,me,traéis?,Recogido,tu,rebaño,¿A,dónde,vas,,pastorcito?,Voy,a,llevar,al,portal,Requesón,,manteca,y,vino,Belén,,campanas,de,Belén,Que,los,ángeles,tocan,¿Qué,nuevas,me,traéis?,Campana,sobre,campana,Y,sobre,campana,dos,Asómate,a,la,ventana,Porque,está,naciendo,Dios,Belén,,campanas,de,Belén,Que,los,ángeles,tocan,¿Qué,nuevas,me,traéis?,Caminando,a,medianoche, ¿Dónde,caminas,,pastor?,Le,llevo,al,niño,que,nace,Como,Dios,mi,corazón,Belén,campanas,de,Belén,Que,los,ángeles,tocan,¿Qué,nuevas,me,traéis? ,Campana,sobre,campana,Y,sobre,campana,una,Asómate,a,la,ventana,Verás,al,niño,en,la,cuna,,Belén,,campanas,de,Belén,Que,los,ángeles,tocan,¿Qué,nuevas,me,traéis?,Recogido,tu,rebaño,¿A,dónde,vas,pastorcito?,Voy,a,llevar,al,portal,Requesón,,manteca,y,vino,Belén,,campanas,de,Belén,Que,los,ángeles,tocan,¿Qué,nuevas,me,traéis?\n",
        "#\"\"\"\n",
        "\n",
        "# Crear una nube de palabras\n",
        "wordcloud = WordCloud(width=800, height=400, background_color='white').generate(text)\n",
        "\n",
        "# Mostrar la imagen\n",
        "plt.figure(figsize=(10, 5))\n",
        "plt.imshow(wordcloud, interpolation='bilinear')\n",
        "plt.axis('off')  # Ocultar ejes\n",
        "plt.show()"
      ],
      "metadata": {
        "colab": {
          "base_uri": "https://localhost:8080/",
          "height": 422
        },
        "cellView": "form",
        "id": "nqJG5keT_1Ns",
        "outputId": "ee2f55bc-6d63-4bef-9716-4f94ecac3ca2"
      },
      "execution_count": 12,
      "outputs": [
        {
          "output_type": "display_data",
          "data": {
            "text/plain": [
              "<Figure size 1000x500 with 1 Axes>"
            ],
            "image/png": "[encoded data removed]"
          },
          "metadata": {}
        }
      ]
    },
    {
      "cell_type": "markdown",
      "source": [
        "# 2. Extracción de datos"
      ],
      "metadata": {
        "id": "8MFt-VFI7z5G"
      }
    },
    {
      "cell_type": "markdown",
      "source": [
        "**Tablas**"
      ],
      "metadata": {
        "id": "8XuXBYkbSNKE"
      }
    },
    {
      "cell_type": "code",
      "source": [
        "url = \"https://es.wikipedia.org/wiki/Python\"\n",
        "df = pd.read_html(url)"
      ],
      "metadata": {
        "id": "EwXloi70Nmqj"
      },
      "execution_count": null,
      "outputs": []
    },
    {
      "cell_type": "code",
      "source": [
        "df[4]"
      ],
      "metadata": {
        "id": "qAAWBH3nSRdB"
      },
      "execution_count": null,
      "outputs": []
    },
    {
      "cell_type": "markdown",
      "source": [
        "**Texto en páginas web**"
      ],
      "metadata": {
        "id": "QXPcAX6iP-jj"
      }
    },
    {
      "cell_type": "code",
      "source": [
        "# Install Google-Chrome\n",
        "%%capture\n",
        "!wget https://dl.google.com/linux/direct/google-chrome-stable_current_amd64.deb\n",
        "!dpkg -i google-chrome-stable_current_amd64.deb\n",
        "!apt-get install -f\n",
        "!rm -rf google-chrome-stable_current_amd64.deb\n",
        "# Install dependencies for install Google-Chrome\n",
        "!sudo apt-get update\n",
        "!sudo apt-get install -y libu2f-udev\n",
        "!pip install selenium"
      ],
      "metadata": {
        "id": "LmnVTqpUPtm0"
      },
      "execution_count": null,
      "outputs": []
    },
    {
      "cell_type": "code",
      "source": [
        "import pandas as pd\n",
        "import numpy as np\n",
        "from selenium import webdriver\n",
        "import time\n",
        "from selenium.webdriver.chrome.options import Options\n",
        "from selenium.webdriver.chrome.service import Service"
      ],
      "metadata": {
        "id": "maKye38-QaQL"
      },
      "execution_count": null,
      "outputs": []
    },
    {
      "cell_type": "code",
      "source": [
        "chrome_options = webdriver.ChromeOptions()\n",
        "chrome_options.add_argument('--headless')\n",
        "chrome_options.add_argument('--no-sandbox')\n",
        "chrome_driver_path = '/content/chromedriver'\n",
        "chrome_service = webdriver.ChromeService(chrome_driver_path)\n",
        "driver = webdriver.Chrome(options=chrome_options)"
      ],
      "metadata": {
        "id": "MZxYYwhVPquN"
      },
      "execution_count": null,
      "outputs": []
    },
    {
      "cell_type": "markdown",
      "source": [
        "Ahora sí, hacemos las consultas. Para ello usar \"Copiar como XPath\""
      ],
      "metadata": {
        "id": "jn9-ggsCQdpE"
      }
    },
    {
      "cell_type": "markdown",
      "source": [
        "//*[@id=\"mw-content-text\"]/div[1]/table[1]/tbody/tr[5]/td"
      ],
      "metadata": {
        "id": "B_s3DzEkRukR"
      }
    },
    {
      "cell_type": "code",
      "source": [
        "driver.get(\"https://es.wikipedia.org/wiki/%C3%81cido_acetilsalic%C3%ADlico\")\n",
        "time.sleep(5)\n",
        "IUPAC = driver.find_element(\"xpath\",'//*[@id=\"mw-content-text\"]/div[1]/table[1]/tbody/tr[5]/td')\n",
        "print('IUPAC: '+ IUPAC.text)"
      ],
      "metadata": {
        "id": "5uXy-LOXP5WW"
      },
      "execution_count": null,
      "outputs": []
    },
    {
      "cell_type": "markdown",
      "source": [
        "Podemos hacer múltiples consultas"
      ],
      "metadata": {
        "id": "ppc3Ny4qRSdH"
      }
    },
    {
      "cell_type": "code",
      "source": [
        "driver.get(\"https://es.wikipedia.org/wiki/Isoniacida\")\n",
        "time.sleep(5)\n",
        "IUPAC = driver.find_element(\"xpath\",'//*[@id=\"mw-content-text\"]/div[1]/table/tbody/tr[5]/td')\n",
        "print('IUPAC: '+ IUPAC.text)\n",
        "MasaMolecular = driver.find_element(\"xpath\",'//*[@id=\"mw-content-text\"]/div[1]/table/tbody/tr[13]/td')\n",
        "print('Masa Molecular: '+ MasaMolecular.text)\n",
        "CAS = driver.find_element(\"xpath\",'//*[@id=\"mw-content-text\"]/div[1]/table/tbody/tr[7]/td/span/a')\n",
        "print('CAS: '+ CAS.text)\n",
        "driver.quit()"
      ],
      "metadata": {
        "id": "SDHYNu4xQ62n"
      },
      "execution_count": null,
      "outputs": []
    },
    {
      "cell_type": "markdown",
      "source": [
        "Y también usando API's, como por ejemplo, para wikipedia"
      ],
      "metadata": {
        "id": "gNTQ2rOkSBxN"
      }
    },
    {
      "cell_type": "code",
      "source": [
        "%%capture\n",
        "!pip install wikipedia"
      ],
      "metadata": {
        "id": "nGXCkot1TDxQ"
      },
      "execution_count": null,
      "outputs": []
    },
    {
      "cell_type": "code",
      "source": [
        "import wikipedia as w\n",
        "\n",
        "w.set_lang(\"es\")"
      ],
      "metadata": {
        "id": "07C9TcD7TFsE"
      },
      "execution_count": null,
      "outputs": []
    },
    {
      "cell_type": "code",
      "source": [
        "w.search(\"Alzheimer\")"
      ],
      "metadata": {
        "id": "qgi5XEcuTNpI"
      },
      "execution_count": null,
      "outputs": []
    },
    {
      "cell_type": "code",
      "source": [
        "w.summary(\"Alzheimer\")"
      ],
      "metadata": {
        "id": "4wqh0zrkTPan"
      },
      "execution_count": null,
      "outputs": []
    },
    {
      "cell_type": "code",
      "source": [
        "w.summary(\"Alzheimer\",sentences=1)"
      ],
      "metadata": {
        "id": "l0HVQhK6TRIB"
      },
      "execution_count": null,
      "outputs": []
    },
    {
      "cell_type": "markdown",
      "source": [
        "Consultando todos los elementos de las búsqueda encontrada"
      ],
      "metadata": {
        "id": "7AavloSvxXF5"
      }
    },
    {
      "cell_type": "code",
      "source": [
        "type(w.search(\"Alzheimer\"))"
      ],
      "metadata": {
        "id": "b4KcaCOzxN6w"
      },
      "execution_count": null,
      "outputs": []
    },
    {
      "cell_type": "code",
      "source": [
        "len(w.search(\"Alzheimer\"))"
      ],
      "metadata": {
        "id": "5dPcpnXr57yE"
      },
      "execution_count": null,
      "outputs": []
    },
    {
      "cell_type": "code",
      "source": [
        "milista = w.search(\"Alzheimer\")\n",
        "\n",
        "for i in milista:\n",
        "    print(i)"
      ],
      "metadata": {
        "id": "Bqe_juvkyCvQ"
      },
      "execution_count": null,
      "outputs": []
    },
    {
      "cell_type": "markdown",
      "source": [
        "Cuál es el error en la siguiente celda"
      ],
      "metadata": {
        "id": "zSeZR9PwURHU"
      }
    },
    {
      "cell_type": "code",
      "source": [
        "for i in milista:\n",
        "    print(f\"{i}:\" + w.summary(i,sentences=1))\n",
        "    print(\"\")"
      ],
      "metadata": {
        "id": "XWBxXqXpUQCk"
      },
      "execution_count": null,
      "outputs": []
    },
    {
      "cell_type": "code",
      "source": [
        "for i in milista:\n",
        "  try:\n",
        "    print(f\"{i}:\\n\" + w.summary(i,sentences=1))\n",
        "    print(\"\")\n",
        "  except:\n",
        "    print(f\"{i}:\\n\" + \"--- No hay resultado en esta búsqueda ---\");"
      ],
      "metadata": {
        "id": "8Beo73oeylmE"
      },
      "execution_count": null,
      "outputs": []
    },
    {
      "cell_type": "markdown",
      "source": [
        "Guardar en archivo de Texto"
      ],
      "metadata": {
        "id": "fuiIPI2A1-XU"
      }
    },
    {
      "cell_type": "code",
      "source": [
        "# alzheimer.txt\n",
        "archivo = open('alzheimer.txt','w')\n",
        "\n",
        "for i in milista:\n",
        "  try:\n",
        "    archivo.write(f\"{i}:\\n\" + wikipedia.summary(i,sentences=1) + \"\\n\")\n",
        "    archivo.write(\"\\n\")\n",
        "  except:\n",
        "    archivo.write(f\"{i}:\\n\" + \"--- No hay resultado en esta búsqueda ---\")\n",
        "archivo.close()"
      ],
      "metadata": {
        "id": "qX8l60qm2Dyl"
      },
      "execution_count": null,
      "outputs": []
    },
    {
      "cell_type": "code",
      "source": [
        "!cat alzheimer.txt"
      ],
      "metadata": {
        "id": "TaLeA7yu3rVI"
      },
      "execution_count": null,
      "outputs": []
    },
    {
      "cell_type": "markdown",
      "source": [
        "Contenido total"
      ],
      "metadata": {
        "id": "5yCg_kW0CULf"
      }
    },
    {
      "cell_type": "code",
      "source": [
        "w.page(\"Alzheimer\")"
      ],
      "metadata": {
        "id": "hqI8WBm60zsT"
      },
      "execution_count": null,
      "outputs": []
    },
    {
      "cell_type": "code",
      "source": [
        "w.page(\"Alzheimer\").content"
      ],
      "metadata": {
        "id": "rDNobApiBWMs"
      },
      "execution_count": null,
      "outputs": []
    },
    {
      "cell_type": "code",
      "source": [
        "len(w.page(\"Alzheimer\").content)"
      ],
      "metadata": {
        "id": "Yyeit2OAB0UN"
      },
      "execution_count": null,
      "outputs": []
    },
    {
      "cell_type": "markdown",
      "source": [
        "Búsqueda: Bibliografía"
      ],
      "metadata": {
        "id": "looHJn4B1TOQ"
      }
    },
    {
      "cell_type": "code",
      "source": [
        "w.page(\"Alzheimer\").title"
      ],
      "metadata": {
        "id": "YWVwrhhvCz3h"
      },
      "execution_count": null,
      "outputs": []
    },
    {
      "cell_type": "code",
      "source": [
        "w.page(\"Alzheimer\").references"
      ],
      "metadata": {
        "id": "UnLIe-jRCbFu"
      },
      "execution_count": null,
      "outputs": []
    },
    {
      "cell_type": "code",
      "source": [
        "len(w.page(\"Alzheimer\").references)"
      ],
      "metadata": {
        "id": "uuZ2Pg3RD2P_"
      },
      "execution_count": null,
      "outputs": []
    },
    {
      "cell_type": "markdown",
      "source": [
        "Control+F: **https://www.ncbi.nlm.nih.gov/books/NBK499922/**\n",
        "\n",
        "Alzheimer Disease\n",
        "\n",
        "Anil Kumar; Jaskirat Sidhu; Forshing Lui; Jack W. Tsao."
      ],
      "metadata": {
        "id": "adz-6jOVEek0"
      }
    },
    {
      "cell_type": "markdown",
      "source": [
        "Enlaces contenidos"
      ],
      "metadata": {
        "id": "GG5ncivqCMCn"
      }
    },
    {
      "cell_type": "code",
      "source": [
        "w.page(\"Alzheimer\").links"
      ],
      "metadata": {
        "id": "gKZjOTieCBSw"
      },
      "execution_count": null,
      "outputs": []
    },
    {
      "cell_type": "code",
      "source": [
        "lista1 = w.page(\"Alzheimer\").references\n",
        "lista2 = w.page(\"Alzheimer\").links"
      ],
      "metadata": {
        "id": "hbdmK3NuVF19"
      },
      "execution_count": null,
      "outputs": []
    },
    {
      "cell_type": "code",
      "source": [
        "len(lista1), len(lista2)"
      ],
      "metadata": {
        "id": "8misiSROVJQR"
      },
      "execution_count": null,
      "outputs": []
    },
    {
      "cell_type": "code",
      "source": [
        "import pandas as pd\n",
        "\n",
        "tabla_alzheimer = pd.DataFrame(zip(lista1, lista2))"
      ],
      "metadata": {
        "id": "bLqGS-vbVLYQ"
      },
      "execution_count": null,
      "outputs": []
    },
    {
      "cell_type": "code",
      "source": [
        "tabla_alzheimer"
      ],
      "metadata": {
        "id": "dWpBMj4QVJNl"
      },
      "execution_count": null,
      "outputs": []
    },
    {
      "cell_type": "markdown",
      "source": [
        "# 3. Procesamiento de datos."
      ],
      "metadata": {
        "id": "BX3ltQvZ7zBd"
      }
    },
    {
      "cell_type": "markdown",
      "source": [
        "## 3.1. ¿Cuál es la proporción entre universidades públicas y privadas en el Perú?"
      ],
      "metadata": {
        "id": "YckPYa2HZSsV"
      }
    },
    {
      "cell_type": "code",
      "source": [
        "url = 'https://www.sunedu.gob.pe/lista-universidades/'\n",
        "df = pd.read_html(url)"
      ],
      "metadata": {
        "id": "dpd6LBWOjaM9"
      },
      "execution_count": null,
      "outputs": []
    },
    {
      "cell_type": "code",
      "source": [
        "df_publicas = df[0]\n",
        "df_publicas.head(3)"
      ],
      "metadata": {
        "id": "g4tMRCAekZkz"
      },
      "execution_count": null,
      "outputs": []
    },
    {
      "cell_type": "code",
      "source": [
        "df_privadas = df[2]\n",
        "df_privadas.head(3)"
      ],
      "metadata": {
        "id": "DkV-QS4wkdQa"
      },
      "execution_count": null,
      "outputs": []
    },
    {
      "cell_type": "code",
      "source": [
        "# Si queremos guardar el DataFrame como un CSV\n",
        "#df_privadas.to_csv('privadas.csv')\n",
        "#df_publicas.to_csv('publicas.csv')"
      ],
      "metadata": {
        "id": "47O70Zkpjj9W"
      },
      "execution_count": null,
      "outputs": []
    },
    {
      "cell_type": "code",
      "source": [
        "cantidad = [len(df_publicas), len(df_privadas)]\n",
        "cantidad"
      ],
      "metadata": {
        "id": "hUyju7Tpb-og"
      },
      "execution_count": null,
      "outputs": []
    },
    {
      "cell_type": "code",
      "source": [
        "universidades = ['Públicas','Privadas']"
      ],
      "metadata": {
        "id": "mWo4jRdCeX0-"
      },
      "execution_count": null,
      "outputs": []
    },
    {
      "cell_type": "code",
      "source": [
        "plt.bar(universidades,cantidad)\n",
        "plt.title('Cantidad y tipo de Universidades en Perú')\n",
        "plt.xlabel('Universidades')\n",
        "plt.ylabel('Cantidad')\n",
        "plt.show()"
      ],
      "metadata": {
        "id": "lj6z93szcff5"
      },
      "execution_count": null,
      "outputs": []
    },
    {
      "cell_type": "code",
      "source": [
        "# [Extra] Pie plot\n",
        "\n",
        "fig, ax = plt.subplots()\n",
        "ax.pie(cantidad, labels=universidades, autopct='%1.1f%%',\n",
        "       shadow={'ox': -0.04,\n",
        "               'edgecolor': 'none',\n",
        "               'shade': 0.9},\n",
        "       startangle=90,\n",
        "       #radius=0.5\n",
        "       )\n",
        "ax.axis('equal')\n",
        "plt.title('Cantidad y tipo de Universidades en Perú')\n",
        "plt.show()\n",
        "\n",
        "#Ref: https://matplotlib.org/stable/gallery/pie_and_polar_charts/pie_features.html"
      ],
      "metadata": {
        "id": "ltB2J5Sij0l7"
      },
      "execution_count": null,
      "outputs": []
    },
    {
      "cell_type": "markdown",
      "source": [
        "## 3.2. ¿En qué año se creó la mayor cantidad de universidades?"
      ],
      "metadata": {
        "id": "1CVIidVoZpeA"
      }
    },
    {
      "cell_type": "markdown",
      "source": [
        "Primero establecemos el formato de fecha para la columna que contiene la información \"FECHA DE CREACIÓN\""
      ],
      "metadata": {
        "id": "3MAhSFKj6v9H"
      }
    },
    {
      "cell_type": "code",
      "source": [
        "df_publicas['FECHA DE CREACIÓN'] = pd.to_datetime(df_publicas['FECHA DE CREACIÓN'], errors='coerce')"
      ],
      "metadata": {
        "id": "Fg403RiAmHoq"
      },
      "execution_count": null,
      "outputs": []
    },
    {
      "cell_type": "markdown",
      "source": [
        "Hemos empleado 'coerce' para que el análisis no válido se establezca como NaT (Not at time). A continuación llamamos obtenemos unicamente el año."
      ],
      "metadata": {
        "id": "thiTCWW97l_g"
      }
    },
    {
      "cell_type": "code",
      "source": [
        "df_publicas['FECHA'] = df_publicas['FECHA DE CREACIÓN'].dt.year"
      ],
      "metadata": {
        "id": "VfBTdDXZ1zDh"
      },
      "execution_count": null,
      "outputs": []
    },
    {
      "cell_type": "markdown",
      "source": [
        "Veamos el resultado en la última columna \"FECHA\""
      ],
      "metadata": {
        "id": "eHUG7vLP8Cue"
      }
    },
    {
      "cell_type": "code",
      "source": [
        "df_publicas.head(5)"
      ],
      "metadata": {
        "id": "yR8B7dNCmZtW"
      },
      "execution_count": null,
      "outputs": []
    },
    {
      "cell_type": "markdown",
      "source": [
        "¿Qué diferencias encontramos en nuestra tabla con la original?"
      ],
      "metadata": {
        "id": "ogUL8GvF8MWe"
      }
    },
    {
      "cell_type": "code",
      "source": [
        "df_publicas['FECHA'].iloc[0] = float(1551.0)\n",
        "df_publicas['FECHA'].iloc[1] = float(1677)"
      ],
      "metadata": {
        "id": "GkZdabpE4iM0"
      },
      "execution_count": null,
      "outputs": []
    },
    {
      "cell_type": "markdown",
      "source": [
        "Veamos la tabla luego de la corrección:"
      ],
      "metadata": {
        "id": "JSSxDUqr8oy_"
      }
    },
    {
      "cell_type": "code",
      "source": [
        "df_publicas.head(5)"
      ],
      "metadata": {
        "id": "Oviu_1XB581j"
      },
      "execution_count": null,
      "outputs": []
    },
    {
      "cell_type": "markdown",
      "source": [
        "Ahora ya podemos contar todos los años en que se crearon las universidades y contar cuantas veces ocurrieron, para ello usamos el comando \"value_counts\""
      ],
      "metadata": {
        "id": "imIc4fMu8vtd"
      }
    },
    {
      "cell_type": "code",
      "source": [
        "# Contar los valores repetidos en una columna\n",
        "df_publicas['FECHA'].value_counts()"
      ],
      "metadata": {
        "id": "SCrqTD_csZPE"
      },
      "execution_count": null,
      "outputs": []
    },
    {
      "cell_type": "markdown",
      "source": [
        "Con esta información podemos responder la pregunta, pero siempre es útil facilitar la comprensión del análisis mediante una gráfica. Si guardamos esta última información en \"mi_tabla\" podemos graficarla como un barplot:"
      ],
      "metadata": {
        "id": "SS9ksILS9AVk"
      }
    },
    {
      "cell_type": "code",
      "source": [
        "# Graficamos por fechas\n",
        "mi_tabla = df_publicas['FECHA'].value_counts()\n",
        "mi_tabla.plot(kind='bar')\n",
        "plt.show()"
      ],
      "metadata": {
        "id": "jtBVhr1e5IiR"
      },
      "execution_count": null,
      "outputs": []
    },
    {
      "cell_type": "markdown",
      "source": [
        "Por lo tanto, en el 2010 y 2011 se creó la mayor cantidad de universidades públicas. Para observar mejor la distribución de esta información respecto del total del tiempo evaluado, el tamaño de la gráfica, entre otros, podemos emplear los siguientes comandos:"
      ],
      "metadata": {
        "id": "UUnBvqSt5ovW"
      }
    },
    {
      "cell_type": "code",
      "source": [
        "plt.figure(figsize=(16, 3))\n",
        "plt.xticks(rotation=45)\n",
        "plt.xlabel('Año')\n",
        "plt.ylabel('Frecuencia')\n",
        "#plt.grid(True)\n",
        "plt.title('Año de creación de Universidades Públicas por décadas')\n",
        "sns.histplot(df_publicas['FECHA'], bins=50); #, kde=True)"
      ],
      "metadata": {
        "id": "U-ZIdHCD7y43"
      },
      "execution_count": null,
      "outputs": []
    },
    {
      "cell_type": "markdown",
      "source": [
        "### Ejercicio:"
      ],
      "metadata": {
        "id": "15BaISx8AxAo"
      }
    },
    {
      "cell_type": "markdown",
      "source": [
        "Grafica un diagrama de barras con el año de creación de las universidades privadas."
      ],
      "metadata": {
        "id": "-iiLTSvIA2Y3"
      }
    },
    {
      "cell_type": "markdown",
      "source": [
        "## 3.3. ¿En qué departamento se concentra la mayor cantidad de universidades?"
      ],
      "metadata": {
        "id": "EwteqcIKZun8"
      }
    },
    {
      "cell_type": "markdown",
      "source": [
        "Para abordar esta pregunta vamos a utilizar las variables df_publicas y df_privadas. Podemos utilizar directamente estos DataFrames, pero con la finalidad de abordar un nuevo caso de aplicación, vamos a trabajar con un archivo de Excel que contiene 2 pestañas."
      ],
      "metadata": {
        "id": "3eeSmqEDBW9p"
      }
    },
    {
      "cell_type": "markdown",
      "source": [
        "Nuestro archivo Excel se llama 'quimica_en_universidades.xlsx' y vamos a **cargarlo en la carpeta de trabajo** para luego guardarlo como una variable llamada \"mi_excel\":"
      ],
      "metadata": {
        "id": "TzKR1aO_CSJ8"
      }
    },
    {
      "cell_type": "code",
      "source": [
        "mi_excel = 'quimica_en_universidades.xlsx'"
      ],
      "metadata": {
        "id": "YSWtiREyCdWA"
      },
      "execution_count": null,
      "outputs": []
    },
    {
      "cell_type": "markdown",
      "source": [
        "Esta variable podemos convertirla en un elemento de pandas usando el comando \"ExcelFile\""
      ],
      "metadata": {
        "id": "1Hq97zY8CkFk"
      }
    },
    {
      "cell_type": "code",
      "source": [
        "xls = pd.ExcelFile(mi_excel)"
      ],
      "metadata": {
        "id": "VLvw0iQXCkkG"
      },
      "execution_count": null,
      "outputs": []
    },
    {
      "cell_type": "markdown",
      "source": [
        "Para trabajar con las pestañas empleamos \"sheet_names\" en el elemento de pandas xls:"
      ],
      "metadata": {
        "id": "OVQt8MpHDgpH"
      }
    },
    {
      "cell_type": "code",
      "source": [
        "sheet_names = xls.sheet_names"
      ],
      "metadata": {
        "id": "IuHSbFlEDgLr"
      },
      "execution_count": null,
      "outputs": []
    },
    {
      "cell_type": "markdown",
      "source": [
        "Como sheet_names contiene las pestañas podemos usar corchetes para llamar cada una, recordando que el conteo inicia en cero:"
      ],
      "metadata": {
        "id": "kvumCfQ8DvN7"
      }
    },
    {
      "cell_type": "code",
      "source": [
        "df_hoja1 = pd.read_excel(mi_excel, sheet_name=sheet_names[0], index_col=1)\n",
        "df_hoja2 = pd.read_excel(mi_excel, sheet_name=sheet_names[1], index_col=1)"
      ],
      "metadata": {
        "id": "gfvXIAK8pKaO"
      },
      "execution_count": null,
      "outputs": []
    },
    {
      "cell_type": "code",
      "source": [
        "df_hoja1.head(2)"
      ],
      "metadata": {
        "id": "wN1fbFwwqDAQ"
      },
      "execution_count": null,
      "outputs": []
    },
    {
      "cell_type": "code",
      "source": [
        "df_hoja2.head(2)"
      ],
      "metadata": {
        "id": "q2m8skaaEhKH"
      },
      "execution_count": null,
      "outputs": []
    },
    {
      "cell_type": "markdown",
      "source": [
        "Vamos a eliminar la última columna para sumar los 2 DataFrames"
      ],
      "metadata": {
        "id": "hQWCoJTqFPId"
      }
    },
    {
      "cell_type": "code",
      "source": [
        "df_hoja2.drop([\"CONDICIÓN JURÍDICA\"], axis='columns', inplace=True)\n",
        "df_hoja2.head(2)"
      ],
      "metadata": {
        "id": "TXGdddrYFOSR"
      },
      "execution_count": null,
      "outputs": []
    },
    {
      "cell_type": "markdown",
      "source": [
        "Ahora si podemos apilar las 2 tablas para evaluar en conjunto, para ello usamos la operacion \"concat\""
      ],
      "metadata": {
        "id": "L8xk0-vjH7AR"
      }
    },
    {
      "cell_type": "code",
      "source": [
        "tabla = pd.concat([df_hoja1,df_hoja2], axis=0)"
      ],
      "metadata": {
        "id": "cs3x_QtWEpbt"
      },
      "execution_count": null,
      "outputs": []
    },
    {
      "cell_type": "code",
      "source": [
        "tabla"
      ],
      "metadata": {
        "id": "AHM3m2dbIGUt"
      },
      "execution_count": null,
      "outputs": []
    },
    {
      "cell_type": "markdown",
      "source": [
        "Notar que se ha perdido información (aparecen como NaN) luego de haber apilado, en este momento no nos afectará pero es recomendable ser cuidadoso con estas operaciones si comprometen la información que se va a analizar."
      ],
      "metadata": {
        "id": "LkY4bAcKIcHW"
      }
    },
    {
      "cell_type": "markdown",
      "source": [
        "Nuevamente podemos usar value_counts pero ahora aplicado a la columna \"DEPARTAMENTO\""
      ],
      "metadata": {
        "id": "8-V_JtMSJOT3"
      }
    },
    {
      "cell_type": "code",
      "source": [
        "universidades_en_departamentos = tabla[\"DEPARTAMENTO\"].value_counts()\n",
        "universidades_en_departamentos"
      ],
      "metadata": {
        "id": "n3XSxI0yI0Ml"
      },
      "execution_count": null,
      "outputs": []
    },
    {
      "cell_type": "code",
      "source": [
        "universidades_en_departamentos.plot(kind='bar')"
      ],
      "metadata": {
        "id": "nzIwNJdEI0Jk"
      },
      "execution_count": null,
      "outputs": []
    }
  ]
}